{
  "cells": [
    {
      "cell_type": "markdown",
      "metadata": {
        "id": "dPubUQ0UQ6SV"
      },
      "source": [
        "# HR Analytics Employee Attrition Prediction - [IBM Dataset on Kaggle](https://www.kaggle.com/datasets/pavansubhasht/ibm-hr-analytics-attrition-dataset \"IBM HR Analytics Employee Attrition & Performance\")\n"
      ]
    },
    {
      "cell_type": "markdown",
      "metadata": {
        "id": "EJX6s_JQRLOc"
      },
      "source": [
        "### **Problem Statement**"
      ]
    },
    {
      "cell_type": "markdown",
      "metadata": {
        "id": "D414uN6gTb_y"
      },
      "source": [
        "Employee attrition poses a significant challenge for businesses. High turnover rates lead to increased recruitment costs, lost productivity, and disruption to team dynamics. This project aims to predict employee attrition using machine learning, enabling organizations to proactively address factors contributing to turnover and improve employee retention.\n",
        "\n",
        "---"
      ]
    },
    {
      "cell_type": "markdown",
      "metadata": {
        "id": "grvn1idYTmRM"
      },
      "source": [
        "### **Importance**\n",
        "\n",
        "1. **Quantifiable Business Impact**:\n",
        "   - Employee attrition costs organizations between **33% and 200% of an employee's annual salary** (depending on role and seniority).\n",
        "   - For large organizations like IBM or Intel, even a **1% reduction in attrition** can save millions annually.\n",
        "\n",
        "2. **Improved Workforce Planning**:\n",
        "   - Early identification of employees at risk of leaving enables HR to implement targeted retention strategies, reducing disruptions to operations.\n",
        "\n",
        "3. **Enhanced Employee Satisfaction**:\n",
        "   - Understanding key drivers of attrition helps create better work environments, improving overall morale and engagement.\n",
        "\n",
        "---\n",
        "\n"
      ]
    },
    {
      "cell_type": "markdown",
      "metadata": {
        "id": "Gj8LAx2zUpgX"
      },
      "source": [
        "### **Key Stakeholders**\n",
        "\n",
        "1. **Human Resources (HR)**:\n",
        "   - HR teams can use predictions to identify at-risk employees and develop tailored retention plans (e.g., increasing job satisfaction, adjusting workloads).\n",
        "\n",
        "2. **Leadership/Management**:\n",
        "   - Managers benefit from insights into team dynamics and can address factors leading to attrition proactively.\n",
        "\n",
        "3. **Finance Team**:\n",
        "   - Cost savings from reduced attrition directly impact the bottom line, aligning with budget optimization goals.\n",
        "\n",
        "4. **Employees**:\n",
        "   - Identifying and mitigating attrition factors enhances job satisfaction, work-life balance, and career growth opportunities.\n",
        "---\n"
      ]
    },
    {
      "cell_type": "markdown",
      "metadata": {
        "id": "vibvhpEgZHS7"
      },
      "source": [
        "### Data Overview\n",
        "\n",
        "#### Demographic Information:\n",
        "1. Age: Employee's age (int)\n",
        "2. Gender: Employee's gender (object)\n",
        "3. MaritalStatus: Employee's marital status (object)\n",
        "4. DistanceFromHome: Distance from work to home (int)\n",
        "\n",
        "#### Employment Details:\n",
        "5. EmployeeNumber: Unique identifier for each employee (int)\n",
        "6. EmployeeCount: Number of employees (constant value of 1 in this dataset) (int)\n",
        "7. Department: Employee's department (object)\n",
        "8. JobRole: Employee's specific role in the company (object)\n",
        "9. JobLevel: Level of job (hierarchy in the organization) (int)\n",
        "10. YearsAtCompany: Number of years at the company (int)\n",
        "11. YearsInCurrentRole: Number of years in current role (int)\n",
        "12. YearsSinceLastPromotion: Years since last promotion (int)\n",
        "13. YearsWithCurrManager: Years working under current manager (int)\n",
        "14. TotalWorkingYears: Total years of working experience (int)\n",
        "15. NumCompaniesWorked: Number of companies worked for (int)\n",
        "\n",
        "#### Education and Training:\n",
        "16. Education: Level of education (int)\n",
        "17. EducationField: Field of education (object)\n",
        "18. TrainingTimesLastYear: Number of training sessions attended last year (int)\n",
        "\n",
        "#### Compensation and Benefits:\n",
        "19. DailyRate: Daily rate of pay (int)\n",
        "20. HourlyRate: Hourly rate of pay (int)\n",
        "21. MonthlyIncome: Monthly salary (int)\n",
        "22. MonthlyRate: Monthly rate (int)\n",
        "23. PercentSalaryHike: Percentage increase in salary (int)\n",
        "24. StockOptionLevel: Level of stock options (int)\n",
        "25. OverTime: Whether the employee works overtime (object)\n",
        "\n",
        "#### Job Satisfaction and Work-Life Balance:\n",
        "26. JobSatisfaction: Level of job satisfaction (int)\n",
        "27. EnvironmentSatisfaction: Satisfaction with work environment (int)\n",
        "28. RelationshipSatisfaction: Satisfaction with work relationships (int)\n",
        "29. WorkLifeBalance: Perceived work-life balance (int)\n",
        "30. JobInvolvement: Level of involvement in job (int)\n",
        "\n",
        "#### Performance and Travel:\n",
        "31. PerformanceRating: Employee's performance rating (int)\n",
        "32. BusinessTravel: Frequency of business travel (object)\n",
        "\n",
        "#### Standard Information:\n",
        "33. Over18: Whether the employee is over 18 (constant 'Y' in this dataset) (object)\n",
        "34. StandardHours: Standard working hours (constant 80 in this dataset) (int)\n",
        "\n",
        "#### Target Variable:\n",
        "35. Attrition: Whether the employee has left the company (Yes/No) (object)\n",
        "\n",
        "This dataset contains various features related to employee characteristics, job details, compensation, satisfaction levels, and performance, which can be used to predict employee attrition.\n"
      ]
    },
    {
      "cell_type": "markdown",
      "metadata": {
        "id": "i6L6xpl8U8tq"
      },
      "source": [
        "##2. Exploratory Data Analysis (EDA)"
      ]
    },
    {
      "cell_type": "markdown",
      "metadata": {
        "id": "jiC1DA-qVM_D"
      },
      "source": [
        "Import required libraries"
      ]
    },
    {
      "cell_type": "code",
      "execution_count": null,
      "metadata": {
        "id": "FuvCdU-XVMft"
      },
      "outputs": [],
      "source": [
        "#import\n",
        "from google.colab import files\n",
        "import pandas as pd\n",
        "import numpy as np\n",
        "import matplotlib.pyplot as plt\n",
        "import matplotlib.cm as cm\n",
        "import seaborn as sns\n",
        "import plotly.express as px\n",
        "import plotly.graph_objects as go\n",
        "from plotly.subplots import make_subplots\n",
        "from sklearn.model_selection import train_test_split, GridSearchCV, cross_val_score\n",
        "from sklearn.ensemble import RandomForestClassifier\n",
        "from sklearn.metrics import accuracy_score, classification_report, confusion_matrix, roc_auc_score\n",
        "from sklearn.preprocessing import StandardScaler\n",
        "from sklearn.feature_selection import RFE\n",
        "from statsmodels.stats.outliers_influence import variance_inflation_factor\n",
        "from sklearn.linear_model import LogisticRegression\n",
        "from sklearn.pipeline import Pipeline\n",
        "from imblearn.over_sampling import SMOTE\n",
        "from imblearn.pipeline import Pipeline as ImbPipeline\n",
        "from xgboost import XGBClassifier\n",
        "from sklearn.metrics import classification_report, confusion_matrix, roc_auc_score"
      ]
    },
    {
      "cell_type": "markdown",
      "metadata": {
        "id": "nCg7stJoVT3L"
      },
      "source": [
        "Upload data file"
      ]
    },
    {
      "cell_type": "code",
      "execution_count": null,
      "metadata": {
        "colab": {
          "base_uri": "https://localhost:8080/",
          "height": 73
        },
        "id": "5ATBE4aFTesS",
        "outputId": "bbd142dd-5731-4f48-a764-a717d51f2c8d"
      },
      "outputs": [
        {
          "output_type": "display_data",
          "data": {
            "text/plain": [
              "<IPython.core.display.HTML object>"
            ],
            "text/html": [
              "\n",
              "     <input type=\"file\" id=\"files-eab38e07-b25b-4963-8408-b87c43300dd8\" name=\"files[]\" multiple disabled\n",
              "        style=\"border:none\" />\n",
              "     <output id=\"result-eab38e07-b25b-4963-8408-b87c43300dd8\">\n",
              "      Upload widget is only available when the cell has been executed in the\n",
              "      current browser session. Please rerun this cell to enable.\n",
              "      </output>\n",
              "      <script>// Copyright 2017 Google LLC\n",
              "//\n",
              "// Licensed under the Apache License, Version 2.0 (the \"License\");\n",
              "// you may not use this file except in compliance with the License.\n",
              "// You may obtain a copy of the License at\n",
              "//\n",
              "//      http://www.apache.org/licenses/LICENSE-2.0\n",
              "//\n",
              "// Unless required by applicable law or agreed to in writing, software\n",
              "// distributed under the License is distributed on an \"AS IS\" BASIS,\n",
              "// WITHOUT WARRANTIES OR CONDITIONS OF ANY KIND, either express or implied.\n",
              "// See the License for the specific language governing permissions and\n",
              "// limitations under the License.\n",
              "\n",
              "/**\n",
              " * @fileoverview Helpers for google.colab Python module.\n",
              " */\n",
              "(function(scope) {\n",
              "function span(text, styleAttributes = {}) {\n",
              "  const element = document.createElement('span');\n",
              "  element.textContent = text;\n",
              "  for (const key of Object.keys(styleAttributes)) {\n",
              "    element.style[key] = styleAttributes[key];\n",
              "  }\n",
              "  return element;\n",
              "}\n",
              "\n",
              "// Max number of bytes which will be uploaded at a time.\n",
              "const MAX_PAYLOAD_SIZE = 100 * 1024;\n",
              "\n",
              "function _uploadFiles(inputId, outputId) {\n",
              "  const steps = uploadFilesStep(inputId, outputId);\n",
              "  const outputElement = document.getElementById(outputId);\n",
              "  // Cache steps on the outputElement to make it available for the next call\n",
              "  // to uploadFilesContinue from Python.\n",
              "  outputElement.steps = steps;\n",
              "\n",
              "  return _uploadFilesContinue(outputId);\n",
              "}\n",
              "\n",
              "// This is roughly an async generator (not supported in the browser yet),\n",
              "// where there are multiple asynchronous steps and the Python side is going\n",
              "// to poll for completion of each step.\n",
              "// This uses a Promise to block the python side on completion of each step,\n",
              "// then passes the result of the previous step as the input to the next step.\n",
              "function _uploadFilesContinue(outputId) {\n",
              "  const outputElement = document.getElementById(outputId);\n",
              "  const steps = outputElement.steps;\n",
              "\n",
              "  const next = steps.next(outputElement.lastPromiseValue);\n",
              "  return Promise.resolve(next.value.promise).then((value) => {\n",
              "    // Cache the last promise value to make it available to the next\n",
              "    // step of the generator.\n",
              "    outputElement.lastPromiseValue = value;\n",
              "    return next.value.response;\n",
              "  });\n",
              "}\n",
              "\n",
              "/**\n",
              " * Generator function which is called between each async step of the upload\n",
              " * process.\n",
              " * @param {string} inputId Element ID of the input file picker element.\n",
              " * @param {string} outputId Element ID of the output display.\n",
              " * @return {!Iterable<!Object>} Iterable of next steps.\n",
              " */\n",
              "function* uploadFilesStep(inputId, outputId) {\n",
              "  const inputElement = document.getElementById(inputId);\n",
              "  inputElement.disabled = false;\n",
              "\n",
              "  const outputElement = document.getElementById(outputId);\n",
              "  outputElement.innerHTML = '';\n",
              "\n",
              "  const pickedPromise = new Promise((resolve) => {\n",
              "    inputElement.addEventListener('change', (e) => {\n",
              "      resolve(e.target.files);\n",
              "    });\n",
              "  });\n",
              "\n",
              "  const cancel = document.createElement('button');\n",
              "  inputElement.parentElement.appendChild(cancel);\n",
              "  cancel.textContent = 'Cancel upload';\n",
              "  const cancelPromise = new Promise((resolve) => {\n",
              "    cancel.onclick = () => {\n",
              "      resolve(null);\n",
              "    };\n",
              "  });\n",
              "\n",
              "  // Wait for the user to pick the files.\n",
              "  const files = yield {\n",
              "    promise: Promise.race([pickedPromise, cancelPromise]),\n",
              "    response: {\n",
              "      action: 'starting',\n",
              "    }\n",
              "  };\n",
              "\n",
              "  cancel.remove();\n",
              "\n",
              "  // Disable the input element since further picks are not allowed.\n",
              "  inputElement.disabled = true;\n",
              "\n",
              "  if (!files) {\n",
              "    return {\n",
              "      response: {\n",
              "        action: 'complete',\n",
              "      }\n",
              "    };\n",
              "  }\n",
              "\n",
              "  for (const file of files) {\n",
              "    const li = document.createElement('li');\n",
              "    li.append(span(file.name, {fontWeight: 'bold'}));\n",
              "    li.append(span(\n",
              "        `(${file.type || 'n/a'}) - ${file.size} bytes, ` +\n",
              "        `last modified: ${\n",
              "            file.lastModifiedDate ? file.lastModifiedDate.toLocaleDateString() :\n",
              "                                    'n/a'} - `));\n",
              "    const percent = span('0% done');\n",
              "    li.appendChild(percent);\n",
              "\n",
              "    outputElement.appendChild(li);\n",
              "\n",
              "    const fileDataPromise = new Promise((resolve) => {\n",
              "      const reader = new FileReader();\n",
              "      reader.onload = (e) => {\n",
              "        resolve(e.target.result);\n",
              "      };\n",
              "      reader.readAsArrayBuffer(file);\n",
              "    });\n",
              "    // Wait for the data to be ready.\n",
              "    let fileData = yield {\n",
              "      promise: fileDataPromise,\n",
              "      response: {\n",
              "        action: 'continue',\n",
              "      }\n",
              "    };\n",
              "\n",
              "    // Use a chunked sending to avoid message size limits. See b/62115660.\n",
              "    let position = 0;\n",
              "    do {\n",
              "      const length = Math.min(fileData.byteLength - position, MAX_PAYLOAD_SIZE);\n",
              "      const chunk = new Uint8Array(fileData, position, length);\n",
              "      position += length;\n",
              "\n",
              "      const base64 = btoa(String.fromCharCode.apply(null, chunk));\n",
              "      yield {\n",
              "        response: {\n",
              "          action: 'append',\n",
              "          file: file.name,\n",
              "          data: base64,\n",
              "        },\n",
              "      };\n",
              "\n",
              "      let percentDone = fileData.byteLength === 0 ?\n",
              "          100 :\n",
              "          Math.round((position / fileData.byteLength) * 100);\n",
              "      percent.textContent = `${percentDone}% done`;\n",
              "\n",
              "    } while (position < fileData.byteLength);\n",
              "  }\n",
              "\n",
              "  // All done.\n",
              "  yield {\n",
              "    response: {\n",
              "      action: 'complete',\n",
              "    }\n",
              "  };\n",
              "}\n",
              "\n",
              "scope.google = scope.google || {};\n",
              "scope.google.colab = scope.google.colab || {};\n",
              "scope.google.colab._files = {\n",
              "  _uploadFiles,\n",
              "  _uploadFilesContinue,\n",
              "};\n",
              "})(self);\n",
              "</script> "
            ]
          },
          "metadata": {}
        },
        {
          "output_type": "stream",
          "name": "stdout",
          "text": [
            "Saving HR-Employee-Attrition-train-dataset.csv to HR-Employee-Attrition-train-dataset (1).csv\n"
          ]
        }
      ],
      "source": [
        "# Open file dialog to upload CSV file\n",
        "from google.colab import files\n",
        "uploaded = files.upload()\n",
        "\n",
        "# Load data\n",
        "data = pd.read_csv(list(uploaded.keys())[0])"
      ]
    },
    {
      "cell_type": "code",
      "source": [],
      "metadata": {
        "id": "J18TmpdIxyAQ"
      },
      "execution_count": null,
      "outputs": []
    },
    {
      "cell_type": "markdown",
      "metadata": {
        "id": "vvMud9jBV4Dl"
      },
      "source": [
        "Quick data review"
      ]
    },
    {
      "cell_type": "code",
      "execution_count": null,
      "metadata": {
        "colab": {
          "base_uri": "https://localhost:8080/",
          "height": 377
        },
        "collapsed": true,
        "id": "jm-tShFKV6Va",
        "outputId": "b791de02-6e8d-4c3f-9cb7-c0524154b177"
      },
      "outputs": [
        {
          "output_type": "stream",
          "name": "stdout",
          "text": [
            "\n",
            " First five columns\n",
            "\n"
          ]
        },
        {
          "output_type": "execute_result",
          "data": {
            "text/plain": [
              "   Age Attrition     BusinessTravel  DailyRate              Department  \\\n",
              "0   41       Yes      Travel_Rarely       1102                   Sales   \n",
              "1   49        No  Travel_Frequently        279  Research & Development   \n",
              "2   37       Yes      Travel_Rarely       1373  Research & Development   \n",
              "3   33        No  Travel_Frequently       1392  Research & Development   \n",
              "4   27        No      Travel_Rarely        591  Research & Development   \n",
              "\n",
              "   DistanceFromHome  Education EducationField  EmployeeCount  EmployeeNumber  \\\n",
              "0                 1          2  Life Sciences              1               1   \n",
              "1                 8          1  Life Sciences              1               2   \n",
              "2                 2          2          Other              1               4   \n",
              "3                 3          4  Life Sciences              1               5   \n",
              "4                 2          1        Medical              1               7   \n",
              "\n",
              "   ...  RelationshipSatisfaction StandardHours  StockOptionLevel  \\\n",
              "0  ...                         1            80                 0   \n",
              "1  ...                         4            80                 1   \n",
              "2  ...                         2            80                 0   \n",
              "3  ...                         3            80                 0   \n",
              "4  ...                         4            80                 1   \n",
              "\n",
              "   TotalWorkingYears  TrainingTimesLastYear WorkLifeBalance  YearsAtCompany  \\\n",
              "0                  8                      0               1               6   \n",
              "1                 10                      3               3              10   \n",
              "2                  7                      3               3               0   \n",
              "3                  8                      3               3               8   \n",
              "4                  6                      3               3               2   \n",
              "\n",
              "  YearsInCurrentRole  YearsSinceLastPromotion  YearsWithCurrManager  \n",
              "0                  4                        0                     5  \n",
              "1                  7                        1                     7  \n",
              "2                  0                        0                     0  \n",
              "3                  7                        3                     0  \n",
              "4                  2                        2                     2  \n",
              "\n",
              "[5 rows x 35 columns]"
            ],
            "text/html": [
              "\n",
              "  <div id=\"df-7cb12d0e-7d1b-417f-93e1-aa393c92ffea\" class=\"colab-df-container\">\n",
              "    <div>\n",
              "<style scoped>\n",
              "    .dataframe tbody tr th:only-of-type {\n",
              "        vertical-align: middle;\n",
              "    }\n",
              "\n",
              "    .dataframe tbody tr th {\n",
              "        vertical-align: top;\n",
              "    }\n",
              "\n",
              "    .dataframe thead th {\n",
              "        text-align: right;\n",
              "    }\n",
              "</style>\n",
              "<table border=\"1\" class=\"dataframe\">\n",
              "  <thead>\n",
              "    <tr style=\"text-align: right;\">\n",
              "      <th></th>\n",
              "      <th>Age</th>\n",
              "      <th>Attrition</th>\n",
              "      <th>BusinessTravel</th>\n",
              "      <th>DailyRate</th>\n",
              "      <th>Department</th>\n",
              "      <th>DistanceFromHome</th>\n",
              "      <th>Education</th>\n",
              "      <th>EducationField</th>\n",
              "      <th>EmployeeCount</th>\n",
              "      <th>EmployeeNumber</th>\n",
              "      <th>...</th>\n",
              "      <th>RelationshipSatisfaction</th>\n",
              "      <th>StandardHours</th>\n",
              "      <th>StockOptionLevel</th>\n",
              "      <th>TotalWorkingYears</th>\n",
              "      <th>TrainingTimesLastYear</th>\n",
              "      <th>WorkLifeBalance</th>\n",
              "      <th>YearsAtCompany</th>\n",
              "      <th>YearsInCurrentRole</th>\n",
              "      <th>YearsSinceLastPromotion</th>\n",
              "      <th>YearsWithCurrManager</th>\n",
              "    </tr>\n",
              "  </thead>\n",
              "  <tbody>\n",
              "    <tr>\n",
              "      <th>0</th>\n",
              "      <td>41</td>\n",
              "      <td>Yes</td>\n",
              "      <td>Travel_Rarely</td>\n",
              "      <td>1102</td>\n",
              "      <td>Sales</td>\n",
              "      <td>1</td>\n",
              "      <td>2</td>\n",
              "      <td>Life Sciences</td>\n",
              "      <td>1</td>\n",
              "      <td>1</td>\n",
              "      <td>...</td>\n",
              "      <td>1</td>\n",
              "      <td>80</td>\n",
              "      <td>0</td>\n",
              "      <td>8</td>\n",
              "      <td>0</td>\n",
              "      <td>1</td>\n",
              "      <td>6</td>\n",
              "      <td>4</td>\n",
              "      <td>0</td>\n",
              "      <td>5</td>\n",
              "    </tr>\n",
              "    <tr>\n",
              "      <th>1</th>\n",
              "      <td>49</td>\n",
              "      <td>No</td>\n",
              "      <td>Travel_Frequently</td>\n",
              "      <td>279</td>\n",
              "      <td>Research &amp; Development</td>\n",
              "      <td>8</td>\n",
              "      <td>1</td>\n",
              "      <td>Life Sciences</td>\n",
              "      <td>1</td>\n",
              "      <td>2</td>\n",
              "      <td>...</td>\n",
              "      <td>4</td>\n",
              "      <td>80</td>\n",
              "      <td>1</td>\n",
              "      <td>10</td>\n",
              "      <td>3</td>\n",
              "      <td>3</td>\n",
              "      <td>10</td>\n",
              "      <td>7</td>\n",
              "      <td>1</td>\n",
              "      <td>7</td>\n",
              "    </tr>\n",
              "    <tr>\n",
              "      <th>2</th>\n",
              "      <td>37</td>\n",
              "      <td>Yes</td>\n",
              "      <td>Travel_Rarely</td>\n",
              "      <td>1373</td>\n",
              "      <td>Research &amp; Development</td>\n",
              "      <td>2</td>\n",
              "      <td>2</td>\n",
              "      <td>Other</td>\n",
              "      <td>1</td>\n",
              "      <td>4</td>\n",
              "      <td>...</td>\n",
              "      <td>2</td>\n",
              "      <td>80</td>\n",
              "      <td>0</td>\n",
              "      <td>7</td>\n",
              "      <td>3</td>\n",
              "      <td>3</td>\n",
              "      <td>0</td>\n",
              "      <td>0</td>\n",
              "      <td>0</td>\n",
              "      <td>0</td>\n",
              "    </tr>\n",
              "    <tr>\n",
              "      <th>3</th>\n",
              "      <td>33</td>\n",
              "      <td>No</td>\n",
              "      <td>Travel_Frequently</td>\n",
              "      <td>1392</td>\n",
              "      <td>Research &amp; Development</td>\n",
              "      <td>3</td>\n",
              "      <td>4</td>\n",
              "      <td>Life Sciences</td>\n",
              "      <td>1</td>\n",
              "      <td>5</td>\n",
              "      <td>...</td>\n",
              "      <td>3</td>\n",
              "      <td>80</td>\n",
              "      <td>0</td>\n",
              "      <td>8</td>\n",
              "      <td>3</td>\n",
              "      <td>3</td>\n",
              "      <td>8</td>\n",
              "      <td>7</td>\n",
              "      <td>3</td>\n",
              "      <td>0</td>\n",
              "    </tr>\n",
              "    <tr>\n",
              "      <th>4</th>\n",
              "      <td>27</td>\n",
              "      <td>No</td>\n",
              "      <td>Travel_Rarely</td>\n",
              "      <td>591</td>\n",
              "      <td>Research &amp; Development</td>\n",
              "      <td>2</td>\n",
              "      <td>1</td>\n",
              "      <td>Medical</td>\n",
              "      <td>1</td>\n",
              "      <td>7</td>\n",
              "      <td>...</td>\n",
              "      <td>4</td>\n",
              "      <td>80</td>\n",
              "      <td>1</td>\n",
              "      <td>6</td>\n",
              "      <td>3</td>\n",
              "      <td>3</td>\n",
              "      <td>2</td>\n",
              "      <td>2</td>\n",
              "      <td>2</td>\n",
              "      <td>2</td>\n",
              "    </tr>\n",
              "  </tbody>\n",
              "</table>\n",
              "<p>5 rows × 35 columns</p>\n",
              "</div>\n",
              "    <div class=\"colab-df-buttons\">\n",
              "\n",
              "  <div class=\"colab-df-container\">\n",
              "    <button class=\"colab-df-convert\" onclick=\"convertToInteractive('df-7cb12d0e-7d1b-417f-93e1-aa393c92ffea')\"\n",
              "            title=\"Convert this dataframe to an interactive table.\"\n",
              "            style=\"display:none;\">\n",
              "\n",
              "  <svg xmlns=\"http://www.w3.org/2000/svg\" height=\"24px\" viewBox=\"0 -960 960 960\">\n",
              "    <path d=\"M120-120v-720h720v720H120Zm60-500h600v-160H180v160Zm220 220h160v-160H400v160Zm0 220h160v-160H400v160ZM180-400h160v-160H180v160Zm440 0h160v-160H620v160ZM180-180h160v-160H180v160Zm440 0h160v-160H620v160Z\"/>\n",
              "  </svg>\n",
              "    </button>\n",
              "\n",
              "  <style>\n",
              "    .colab-df-container {\n",
              "      display:flex;\n",
              "      gap: 12px;\n",
              "    }\n",
              "\n",
              "    .colab-df-convert {\n",
              "      background-color: #E8F0FE;\n",
              "      border: none;\n",
              "      border-radius: 50%;\n",
              "      cursor: pointer;\n",
              "      display: none;\n",
              "      fill: #1967D2;\n",
              "      height: 32px;\n",
              "      padding: 0 0 0 0;\n",
              "      width: 32px;\n",
              "    }\n",
              "\n",
              "    .colab-df-convert:hover {\n",
              "      background-color: #E2EBFA;\n",
              "      box-shadow: 0px 1px 2px rgba(60, 64, 67, 0.3), 0px 1px 3px 1px rgba(60, 64, 67, 0.15);\n",
              "      fill: #174EA6;\n",
              "    }\n",
              "\n",
              "    .colab-df-buttons div {\n",
              "      margin-bottom: 4px;\n",
              "    }\n",
              "\n",
              "    [theme=dark] .colab-df-convert {\n",
              "      background-color: #3B4455;\n",
              "      fill: #D2E3FC;\n",
              "    }\n",
              "\n",
              "    [theme=dark] .colab-df-convert:hover {\n",
              "      background-color: #434B5C;\n",
              "      box-shadow: 0px 1px 3px 1px rgba(0, 0, 0, 0.15);\n",
              "      filter: drop-shadow(0px 1px 2px rgba(0, 0, 0, 0.3));\n",
              "      fill: #FFFFFF;\n",
              "    }\n",
              "  </style>\n",
              "\n",
              "    <script>\n",
              "      const buttonEl =\n",
              "        document.querySelector('#df-7cb12d0e-7d1b-417f-93e1-aa393c92ffea button.colab-df-convert');\n",
              "      buttonEl.style.display =\n",
              "        google.colab.kernel.accessAllowed ? 'block' : 'none';\n",
              "\n",
              "      async function convertToInteractive(key) {\n",
              "        const element = document.querySelector('#df-7cb12d0e-7d1b-417f-93e1-aa393c92ffea');\n",
              "        const dataTable =\n",
              "          await google.colab.kernel.invokeFunction('convertToInteractive',\n",
              "                                                    [key], {});\n",
              "        if (!dataTable) return;\n",
              "\n",
              "        const docLinkHtml = 'Like what you see? Visit the ' +\n",
              "          '<a target=\"_blank\" href=https://colab.research.google.com/notebooks/data_table.ipynb>data table notebook</a>'\n",
              "          + ' to learn more about interactive tables.';\n",
              "        element.innerHTML = '';\n",
              "        dataTable['output_type'] = 'display_data';\n",
              "        await google.colab.output.renderOutput(dataTable, element);\n",
              "        const docLink = document.createElement('div');\n",
              "        docLink.innerHTML = docLinkHtml;\n",
              "        element.appendChild(docLink);\n",
              "      }\n",
              "    </script>\n",
              "  </div>\n",
              "\n",
              "\n",
              "<div id=\"df-88a5a47f-ab59-4fe4-ba4c-32dae923a93f\">\n",
              "  <button class=\"colab-df-quickchart\" onclick=\"quickchart('df-88a5a47f-ab59-4fe4-ba4c-32dae923a93f')\"\n",
              "            title=\"Suggest charts\"\n",
              "            style=\"display:none;\">\n",
              "\n",
              "<svg xmlns=\"http://www.w3.org/2000/svg\" height=\"24px\"viewBox=\"0 0 24 24\"\n",
              "     width=\"24px\">\n",
              "    <g>\n",
              "        <path d=\"M19 3H5c-1.1 0-2 .9-2 2v14c0 1.1.9 2 2 2h14c1.1 0 2-.9 2-2V5c0-1.1-.9-2-2-2zM9 17H7v-7h2v7zm4 0h-2V7h2v10zm4 0h-2v-4h2v4z\"/>\n",
              "    </g>\n",
              "</svg>\n",
              "  </button>\n",
              "\n",
              "<style>\n",
              "  .colab-df-quickchart {\n",
              "      --bg-color: #E8F0FE;\n",
              "      --fill-color: #1967D2;\n",
              "      --hover-bg-color: #E2EBFA;\n",
              "      --hover-fill-color: #174EA6;\n",
              "      --disabled-fill-color: #AAA;\n",
              "      --disabled-bg-color: #DDD;\n",
              "  }\n",
              "\n",
              "  [theme=dark] .colab-df-quickchart {\n",
              "      --bg-color: #3B4455;\n",
              "      --fill-color: #D2E3FC;\n",
              "      --hover-bg-color: #434B5C;\n",
              "      --hover-fill-color: #FFFFFF;\n",
              "      --disabled-bg-color: #3B4455;\n",
              "      --disabled-fill-color: #666;\n",
              "  }\n",
              "\n",
              "  .colab-df-quickchart {\n",
              "    background-color: var(--bg-color);\n",
              "    border: none;\n",
              "    border-radius: 50%;\n",
              "    cursor: pointer;\n",
              "    display: none;\n",
              "    fill: var(--fill-color);\n",
              "    height: 32px;\n",
              "    padding: 0;\n",
              "    width: 32px;\n",
              "  }\n",
              "\n",
              "  .colab-df-quickchart:hover {\n",
              "    background-color: var(--hover-bg-color);\n",
              "    box-shadow: 0 1px 2px rgba(60, 64, 67, 0.3), 0 1px 3px 1px rgba(60, 64, 67, 0.15);\n",
              "    fill: var(--button-hover-fill-color);\n",
              "  }\n",
              "\n",
              "  .colab-df-quickchart-complete:disabled,\n",
              "  .colab-df-quickchart-complete:disabled:hover {\n",
              "    background-color: var(--disabled-bg-color);\n",
              "    fill: var(--disabled-fill-color);\n",
              "    box-shadow: none;\n",
              "  }\n",
              "\n",
              "  .colab-df-spinner {\n",
              "    border: 2px solid var(--fill-color);\n",
              "    border-color: transparent;\n",
              "    border-bottom-color: var(--fill-color);\n",
              "    animation:\n",
              "      spin 1s steps(1) infinite;\n",
              "  }\n",
              "\n",
              "  @keyframes spin {\n",
              "    0% {\n",
              "      border-color: transparent;\n",
              "      border-bottom-color: var(--fill-color);\n",
              "      border-left-color: var(--fill-color);\n",
              "    }\n",
              "    20% {\n",
              "      border-color: transparent;\n",
              "      border-left-color: var(--fill-color);\n",
              "      border-top-color: var(--fill-color);\n",
              "    }\n",
              "    30% {\n",
              "      border-color: transparent;\n",
              "      border-left-color: var(--fill-color);\n",
              "      border-top-color: var(--fill-color);\n",
              "      border-right-color: var(--fill-color);\n",
              "    }\n",
              "    40% {\n",
              "      border-color: transparent;\n",
              "      border-right-color: var(--fill-color);\n",
              "      border-top-color: var(--fill-color);\n",
              "    }\n",
              "    60% {\n",
              "      border-color: transparent;\n",
              "      border-right-color: var(--fill-color);\n",
              "    }\n",
              "    80% {\n",
              "      border-color: transparent;\n",
              "      border-right-color: var(--fill-color);\n",
              "      border-bottom-color: var(--fill-color);\n",
              "    }\n",
              "    90% {\n",
              "      border-color: transparent;\n",
              "      border-bottom-color: var(--fill-color);\n",
              "    }\n",
              "  }\n",
              "</style>\n",
              "\n",
              "  <script>\n",
              "    async function quickchart(key) {\n",
              "      const quickchartButtonEl =\n",
              "        document.querySelector('#' + key + ' button');\n",
              "      quickchartButtonEl.disabled = true;  // To prevent multiple clicks.\n",
              "      quickchartButtonEl.classList.add('colab-df-spinner');\n",
              "      try {\n",
              "        const charts = await google.colab.kernel.invokeFunction(\n",
              "            'suggestCharts', [key], {});\n",
              "      } catch (error) {\n",
              "        console.error('Error during call to suggestCharts:', error);\n",
              "      }\n",
              "      quickchartButtonEl.classList.remove('colab-df-spinner');\n",
              "      quickchartButtonEl.classList.add('colab-df-quickchart-complete');\n",
              "    }\n",
              "    (() => {\n",
              "      let quickchartButtonEl =\n",
              "        document.querySelector('#df-88a5a47f-ab59-4fe4-ba4c-32dae923a93f button');\n",
              "      quickchartButtonEl.style.display =\n",
              "        google.colab.kernel.accessAllowed ? 'block' : 'none';\n",
              "    })();\n",
              "  </script>\n",
              "</div>\n",
              "\n",
              "    </div>\n",
              "  </div>\n"
            ],
            "application/vnd.google.colaboratory.intrinsic+json": {
              "type": "dataframe",
              "variable_name": "data"
            }
          },
          "metadata": {},
          "execution_count": 6
        }
      ],
      "source": [
        "# first five columns\n",
        "\n",
        "print(\"\\n First five columns\\n\")\n",
        "data.head()\n"
      ]
    },
    {
      "cell_type": "markdown",
      "metadata": {
        "id": "y5RsJaStWF0V"
      },
      "source": [
        "list cloumns for quick review as needed"
      ]
    },
    {
      "cell_type": "code",
      "execution_count": null,
      "metadata": {
        "colab": {
          "base_uri": "https://localhost:8080/"
        },
        "id": "eYAfIEesWJpF",
        "outputId": "2c807a92-6100-4cff-ef2e-cdbec2f70943"
      },
      "outputs": [
        {
          "output_type": "stream",
          "name": "stdout",
          "text": [
            "\n",
            " Data columns\n",
            " ['Age', 'Attrition', 'BusinessTravel', 'DailyRate', 'Department', 'DistanceFromHome', 'Education', 'EducationField', 'EmployeeCount', 'EmployeeNumber', 'EnvironmentSatisfaction', 'Gender', 'HourlyRate', 'JobInvolvement', 'JobLevel', 'JobRole', 'JobSatisfaction', 'MaritalStatus', 'MonthlyIncome', 'MonthlyRate', 'NumCompaniesWorked', 'Over18', 'OverTime', 'PercentSalaryHike', 'PerformanceRating', 'RelationshipSatisfaction', 'StandardHours', 'StockOptionLevel', 'TotalWorkingYears', 'TrainingTimesLastYear', 'WorkLifeBalance', 'YearsAtCompany', 'YearsInCurrentRole', 'YearsSinceLastPromotion', 'YearsWithCurrManager']\n"
          ]
        }
      ],
      "source": [
        "# Data columns\n",
        "\n",
        "print(\"\\n Data columns\\n\", data.columns.to_list())"
      ]
    },
    {
      "cell_type": "markdown",
      "metadata": {
        "id": "YV7gEdwhWtf0"
      },
      "source": [
        "overview of datatypes"
      ]
    },
    {
      "cell_type": "code",
      "execution_count": null,
      "metadata": {
        "colab": {
          "base_uri": "https://localhost:8080/"
        },
        "collapsed": true,
        "id": "HlTD423SWyrj",
        "outputId": "583da16d-f9f1-409f-fc2f-9faddff5859d"
      },
      "outputs": [
        {
          "output_type": "stream",
          "name": "stdout",
          "text": [
            "<class 'pandas.core.frame.DataFrame'>\n",
            "RangeIndex: 1470 entries, 0 to 1469\n",
            "Data columns (total 35 columns):\n",
            " #   Column                    Non-Null Count  Dtype \n",
            "---  ------                    --------------  ----- \n",
            " 0   Age                       1470 non-null   int64 \n",
            " 1   Attrition                 1470 non-null   object\n",
            " 2   BusinessTravel            1470 non-null   object\n",
            " 3   DailyRate                 1470 non-null   int64 \n",
            " 4   Department                1470 non-null   object\n",
            " 5   DistanceFromHome          1470 non-null   int64 \n",
            " 6   Education                 1470 non-null   int64 \n",
            " 7   EducationField            1470 non-null   object\n",
            " 8   EmployeeCount             1470 non-null   int64 \n",
            " 9   EmployeeNumber            1470 non-null   int64 \n",
            " 10  EnvironmentSatisfaction   1470 non-null   int64 \n",
            " 11  Gender                    1470 non-null   object\n",
            " 12  HourlyRate                1470 non-null   int64 \n",
            " 13  JobInvolvement            1470 non-null   int64 \n",
            " 14  JobLevel                  1470 non-null   int64 \n",
            " 15  JobRole                   1470 non-null   object\n",
            " 16  JobSatisfaction           1470 non-null   int64 \n",
            " 17  MaritalStatus             1470 non-null   object\n",
            " 18  MonthlyIncome             1470 non-null   int64 \n",
            " 19  MonthlyRate               1470 non-null   int64 \n",
            " 20  NumCompaniesWorked        1470 non-null   int64 \n",
            " 21  Over18                    1470 non-null   object\n",
            " 22  OverTime                  1470 non-null   object\n",
            " 23  PercentSalaryHike         1470 non-null   int64 \n",
            " 24  PerformanceRating         1470 non-null   int64 \n",
            " 25  RelationshipSatisfaction  1470 non-null   int64 \n",
            " 26  StandardHours             1470 non-null   int64 \n",
            " 27  StockOptionLevel          1470 non-null   int64 \n",
            " 28  TotalWorkingYears         1470 non-null   int64 \n",
            " 29  TrainingTimesLastYear     1470 non-null   int64 \n",
            " 30  WorkLifeBalance           1470 non-null   int64 \n",
            " 31  YearsAtCompany            1470 non-null   int64 \n",
            " 32  YearsInCurrentRole        1470 non-null   int64 \n",
            " 33  YearsSinceLastPromotion   1470 non-null   int64 \n",
            " 34  YearsWithCurrManager      1470 non-null   int64 \n",
            "dtypes: int64(26), object(9)\n",
            "memory usage: 402.1+ KB\n",
            "\n",
            " Info\n",
            " None\n"
          ]
        }
      ],
      "source": [
        "# info\n",
        "\n",
        "print(\"\\n Info\\n\", data.info())"
      ]
    },
    {
      "cell_type": "markdown",
      "metadata": {
        "id": "4c0NEQ5UaSGm"
      },
      "source": [
        "inspect stats for any potential outliers and overall distribution"
      ]
    },
    {
      "cell_type": "code",
      "execution_count": null,
      "metadata": {
        "colab": {
          "base_uri": "https://localhost:8080/"
        },
        "id": "uLFLsdqQaYoQ",
        "outputId": "095fc12c-85a3-438e-82b2-79703baf68ce"
      },
      "outputs": [
        {
          "output_type": "stream",
          "name": "stdout",
          "text": [
            "\n",
            " Summary statistics\n",
            "                Age    DailyRate  DistanceFromHome    Education  EmployeeCount  \\\n",
            "count  1470.000000  1470.000000       1470.000000  1470.000000         1470.0   \n",
            "mean     36.923810   802.485714          9.192517     2.912925            1.0   \n",
            "std       9.135373   403.509100          8.106864     1.024165            0.0   \n",
            "min      18.000000   102.000000          1.000000     1.000000            1.0   \n",
            "25%      30.000000   465.000000          2.000000     2.000000            1.0   \n",
            "50%      36.000000   802.000000          7.000000     3.000000            1.0   \n",
            "75%      43.000000  1157.000000         14.000000     4.000000            1.0   \n",
            "max      60.000000  1499.000000         29.000000     5.000000            1.0   \n",
            "\n",
            "       EmployeeNumber  EnvironmentSatisfaction   HourlyRate  JobInvolvement  \\\n",
            "count     1470.000000              1470.000000  1470.000000     1470.000000   \n",
            "mean      1024.865306                 2.721769    65.891156        2.729932   \n",
            "std        602.024335                 1.093082    20.329428        0.711561   \n",
            "min          1.000000                 1.000000    30.000000        1.000000   \n",
            "25%        491.250000                 2.000000    48.000000        2.000000   \n",
            "50%       1020.500000                 3.000000    66.000000        3.000000   \n",
            "75%       1555.750000                 4.000000    83.750000        3.000000   \n",
            "max       2068.000000                 4.000000   100.000000        4.000000   \n",
            "\n",
            "          JobLevel  ...  RelationshipSatisfaction  StandardHours  \\\n",
            "count  1470.000000  ...               1470.000000         1470.0   \n",
            "mean      2.063946  ...                  2.712245           80.0   \n",
            "std       1.106940  ...                  1.081209            0.0   \n",
            "min       1.000000  ...                  1.000000           80.0   \n",
            "25%       1.000000  ...                  2.000000           80.0   \n",
            "50%       2.000000  ...                  3.000000           80.0   \n",
            "75%       3.000000  ...                  4.000000           80.0   \n",
            "max       5.000000  ...                  4.000000           80.0   \n",
            "\n",
            "       StockOptionLevel  TotalWorkingYears  TrainingTimesLastYear  \\\n",
            "count       1470.000000        1470.000000            1470.000000   \n",
            "mean           0.793878          11.279592               2.799320   \n",
            "std            0.852077           7.780782               1.289271   \n",
            "min            0.000000           0.000000               0.000000   \n",
            "25%            0.000000           6.000000               2.000000   \n",
            "50%            1.000000          10.000000               3.000000   \n",
            "75%            1.000000          15.000000               3.000000   \n",
            "max            3.000000          40.000000               6.000000   \n",
            "\n",
            "       WorkLifeBalance  YearsAtCompany  YearsInCurrentRole  \\\n",
            "count      1470.000000     1470.000000         1470.000000   \n",
            "mean          2.761224        7.008163            4.229252   \n",
            "std           0.706476        6.126525            3.623137   \n",
            "min           1.000000        0.000000            0.000000   \n",
            "25%           2.000000        3.000000            2.000000   \n",
            "50%           3.000000        5.000000            3.000000   \n",
            "75%           3.000000        9.000000            7.000000   \n",
            "max           4.000000       40.000000           18.000000   \n",
            "\n",
            "       YearsSinceLastPromotion  YearsWithCurrManager  \n",
            "count              1470.000000           1470.000000  \n",
            "mean                  2.187755              4.123129  \n",
            "std                   3.222430              3.568136  \n",
            "min                   0.000000              0.000000  \n",
            "25%                   0.000000              2.000000  \n",
            "50%                   1.000000              3.000000  \n",
            "75%                   3.000000              7.000000  \n",
            "max                  15.000000             17.000000  \n",
            "\n",
            "[8 rows x 26 columns]\n",
            "\n",
            " Shape\n",
            " (1470, 35)\n"
          ]
        }
      ],
      "source": [
        "# Summary Statistics\n",
        "\n",
        "print(\"\\n Summary statistics\\n\", data.describe())\n",
        "\n",
        "# shape\n",
        "print(\"\\n Shape\\n\", data.shape)"
      ]
    },
    {
      "cell_type": "markdown",
      "metadata": {
        "id": "7Uln5ZLIagBI"
      },
      "source": [
        "look for misssing data"
      ]
    },
    {
      "cell_type": "code",
      "execution_count": null,
      "metadata": {
        "colab": {
          "base_uri": "https://localhost:8080/",
          "height": 1000
        },
        "collapsed": true,
        "id": "blJiR_YNai-j",
        "outputId": "941a2cee-2992-4122-c7a6-4945cf5c9df4"
      },
      "outputs": [
        {
          "output_type": "execute_result",
          "data": {
            "text/plain": [
              "Age                         0\n",
              "Attrition                   0\n",
              "BusinessTravel              0\n",
              "DailyRate                   0\n",
              "Department                  0\n",
              "DistanceFromHome            0\n",
              "Education                   0\n",
              "EducationField              0\n",
              "EmployeeCount               0\n",
              "EmployeeNumber              0\n",
              "EnvironmentSatisfaction     0\n",
              "Gender                      0\n",
              "HourlyRate                  0\n",
              "JobInvolvement              0\n",
              "JobLevel                    0\n",
              "JobRole                     0\n",
              "JobSatisfaction             0\n",
              "MaritalStatus               0\n",
              "MonthlyIncome               0\n",
              "MonthlyRate                 0\n",
              "NumCompaniesWorked          0\n",
              "Over18                      0\n",
              "OverTime                    0\n",
              "PercentSalaryHike           0\n",
              "PerformanceRating           0\n",
              "RelationshipSatisfaction    0\n",
              "StandardHours               0\n",
              "StockOptionLevel            0\n",
              "TotalWorkingYears           0\n",
              "TrainingTimesLastYear       0\n",
              "WorkLifeBalance             0\n",
              "YearsAtCompany              0\n",
              "YearsInCurrentRole          0\n",
              "YearsSinceLastPromotion     0\n",
              "YearsWithCurrManager        0\n",
              "dtype: int64"
            ],
            "text/html": [
              "<div>\n",
              "<style scoped>\n",
              "    .dataframe tbody tr th:only-of-type {\n",
              "        vertical-align: middle;\n",
              "    }\n",
              "\n",
              "    .dataframe tbody tr th {\n",
              "        vertical-align: top;\n",
              "    }\n",
              "\n",
              "    .dataframe thead th {\n",
              "        text-align: right;\n",
              "    }\n",
              "</style>\n",
              "<table border=\"1\" class=\"dataframe\">\n",
              "  <thead>\n",
              "    <tr style=\"text-align: right;\">\n",
              "      <th></th>\n",
              "      <th>0</th>\n",
              "    </tr>\n",
              "  </thead>\n",
              "  <tbody>\n",
              "    <tr>\n",
              "      <th>Age</th>\n",
              "      <td>0</td>\n",
              "    </tr>\n",
              "    <tr>\n",
              "      <th>Attrition</th>\n",
              "      <td>0</td>\n",
              "    </tr>\n",
              "    <tr>\n",
              "      <th>BusinessTravel</th>\n",
              "      <td>0</td>\n",
              "    </tr>\n",
              "    <tr>\n",
              "      <th>DailyRate</th>\n",
              "      <td>0</td>\n",
              "    </tr>\n",
              "    <tr>\n",
              "      <th>Department</th>\n",
              "      <td>0</td>\n",
              "    </tr>\n",
              "    <tr>\n",
              "      <th>DistanceFromHome</th>\n",
              "      <td>0</td>\n",
              "    </tr>\n",
              "    <tr>\n",
              "      <th>Education</th>\n",
              "      <td>0</td>\n",
              "    </tr>\n",
              "    <tr>\n",
              "      <th>EducationField</th>\n",
              "      <td>0</td>\n",
              "    </tr>\n",
              "    <tr>\n",
              "      <th>EmployeeCount</th>\n",
              "      <td>0</td>\n",
              "    </tr>\n",
              "    <tr>\n",
              "      <th>EmployeeNumber</th>\n",
              "      <td>0</td>\n",
              "    </tr>\n",
              "    <tr>\n",
              "      <th>EnvironmentSatisfaction</th>\n",
              "      <td>0</td>\n",
              "    </tr>\n",
              "    <tr>\n",
              "      <th>Gender</th>\n",
              "      <td>0</td>\n",
              "    </tr>\n",
              "    <tr>\n",
              "      <th>HourlyRate</th>\n",
              "      <td>0</td>\n",
              "    </tr>\n",
              "    <tr>\n",
              "      <th>JobInvolvement</th>\n",
              "      <td>0</td>\n",
              "    </tr>\n",
              "    <tr>\n",
              "      <th>JobLevel</th>\n",
              "      <td>0</td>\n",
              "    </tr>\n",
              "    <tr>\n",
              "      <th>JobRole</th>\n",
              "      <td>0</td>\n",
              "    </tr>\n",
              "    <tr>\n",
              "      <th>JobSatisfaction</th>\n",
              "      <td>0</td>\n",
              "    </tr>\n",
              "    <tr>\n",
              "      <th>MaritalStatus</th>\n",
              "      <td>0</td>\n",
              "    </tr>\n",
              "    <tr>\n",
              "      <th>MonthlyIncome</th>\n",
              "      <td>0</td>\n",
              "    </tr>\n",
              "    <tr>\n",
              "      <th>MonthlyRate</th>\n",
              "      <td>0</td>\n",
              "    </tr>\n",
              "    <tr>\n",
              "      <th>NumCompaniesWorked</th>\n",
              "      <td>0</td>\n",
              "    </tr>\n",
              "    <tr>\n",
              "      <th>Over18</th>\n",
              "      <td>0</td>\n",
              "    </tr>\n",
              "    <tr>\n",
              "      <th>OverTime</th>\n",
              "      <td>0</td>\n",
              "    </tr>\n",
              "    <tr>\n",
              "      <th>PercentSalaryHike</th>\n",
              "      <td>0</td>\n",
              "    </tr>\n",
              "    <tr>\n",
              "      <th>PerformanceRating</th>\n",
              "      <td>0</td>\n",
              "    </tr>\n",
              "    <tr>\n",
              "      <th>RelationshipSatisfaction</th>\n",
              "      <td>0</td>\n",
              "    </tr>\n",
              "    <tr>\n",
              "      <th>StandardHours</th>\n",
              "      <td>0</td>\n",
              "    </tr>\n",
              "    <tr>\n",
              "      <th>StockOptionLevel</th>\n",
              "      <td>0</td>\n",
              "    </tr>\n",
              "    <tr>\n",
              "      <th>TotalWorkingYears</th>\n",
              "      <td>0</td>\n",
              "    </tr>\n",
              "    <tr>\n",
              "      <th>TrainingTimesLastYear</th>\n",
              "      <td>0</td>\n",
              "    </tr>\n",
              "    <tr>\n",
              "      <th>WorkLifeBalance</th>\n",
              "      <td>0</td>\n",
              "    </tr>\n",
              "    <tr>\n",
              "      <th>YearsAtCompany</th>\n",
              "      <td>0</td>\n",
              "    </tr>\n",
              "    <tr>\n",
              "      <th>YearsInCurrentRole</th>\n",
              "      <td>0</td>\n",
              "    </tr>\n",
              "    <tr>\n",
              "      <th>YearsSinceLastPromotion</th>\n",
              "      <td>0</td>\n",
              "    </tr>\n",
              "    <tr>\n",
              "      <th>YearsWithCurrManager</th>\n",
              "      <td>0</td>\n",
              "    </tr>\n",
              "  </tbody>\n",
              "</table>\n",
              "</div><br><label><b>dtype:</b> int64</label>"
            ]
          },
          "metadata": {},
          "execution_count": 10
        }
      ],
      "source": [
        "# Checking for & Handling missing values\n",
        "\n",
        "data.isnull().sum()"
      ]
    },
    {
      "cell_type": "markdown",
      "metadata": {
        "id": "g-GO1oZ8bvH6"
      },
      "source": [
        "###Duplicate Data"
      ]
    },
    {
      "cell_type": "code",
      "execution_count": null,
      "metadata": {
        "colab": {
          "base_uri": "https://localhost:8080/"
        },
        "id": "FP-BQyWmbyIg",
        "outputId": "77b320b3-a6ca-40f2-dc58-065aeb40ae46"
      },
      "outputs": [
        {
          "output_type": "stream",
          "name": "stdout",
          "text": [
            "\n",
            " Total Duplicate values: 0\n"
          ]
        }
      ],
      "source": [
        "print(\"\\n Total Duplicate values:\", data.duplicated().sum())\n",
        "\n",
        "# drop if any duplicates\n",
        "data.drop_duplicates(inplace=True)"
      ]
    },
    {
      "cell_type": "markdown",
      "metadata": {
        "id": "5H6A6reMbvF7"
      },
      "source": [
        "###Explore Data Diversity"
      ]
    },
    {
      "cell_type": "markdown",
      "metadata": {
        "id": "TTieegeecB2y"
      },
      "source": [
        "unique values per column"
      ]
    },
    {
      "cell_type": "code",
      "execution_count": null,
      "metadata": {
        "colab": {
          "base_uri": "https://localhost:8080/",
          "height": 1000
        },
        "id": "31C_-akNcE_G",
        "outputId": "a5c4293b-ea20-46a6-ffb4-6b01720d2c30"
      },
      "outputs": [
        {
          "output_type": "execute_result",
          "data": {
            "text/plain": [
              "                          Unique Values\n",
              "Age                                  43\n",
              "Attrition                             2\n",
              "BusinessTravel                        3\n",
              "DailyRate                           886\n",
              "Department                            3\n",
              "DistanceFromHome                     29\n",
              "Education                             5\n",
              "EducationField                        6\n",
              "EmployeeCount                         1\n",
              "EmployeeNumber                     1470\n",
              "EnvironmentSatisfaction               4\n",
              "Gender                                2\n",
              "HourlyRate                           71\n",
              "JobInvolvement                        4\n",
              "JobLevel                              5\n",
              "JobRole                               9\n",
              "JobSatisfaction                       4\n",
              "MaritalStatus                         3\n",
              "MonthlyIncome                      1349\n",
              "MonthlyRate                        1427\n",
              "NumCompaniesWorked                   10\n",
              "Over18                                1\n",
              "OverTime                              2\n",
              "PercentSalaryHike                    15\n",
              "PerformanceRating                     2\n",
              "RelationshipSatisfaction              4\n",
              "StandardHours                         1\n",
              "StockOptionLevel                      4\n",
              "TotalWorkingYears                    40\n",
              "TrainingTimesLastYear                 7\n",
              "WorkLifeBalance                       4\n",
              "YearsAtCompany                       37\n",
              "YearsInCurrentRole                   19\n",
              "YearsSinceLastPromotion              16\n",
              "YearsWithCurrManager                 18"
            ],
            "text/html": [
              "\n",
              "  <div id=\"df-710b7402-938d-4bdc-8cc2-99d22c32c3fe\" class=\"colab-df-container\">\n",
              "    <div>\n",
              "<style scoped>\n",
              "    .dataframe tbody tr th:only-of-type {\n",
              "        vertical-align: middle;\n",
              "    }\n",
              "\n",
              "    .dataframe tbody tr th {\n",
              "        vertical-align: top;\n",
              "    }\n",
              "\n",
              "    .dataframe thead th {\n",
              "        text-align: right;\n",
              "    }\n",
              "</style>\n",
              "<table border=\"1\" class=\"dataframe\">\n",
              "  <thead>\n",
              "    <tr style=\"text-align: right;\">\n",
              "      <th></th>\n",
              "      <th>Unique Values</th>\n",
              "    </tr>\n",
              "  </thead>\n",
              "  <tbody>\n",
              "    <tr>\n",
              "      <th>Age</th>\n",
              "      <td>43</td>\n",
              "    </tr>\n",
              "    <tr>\n",
              "      <th>Attrition</th>\n",
              "      <td>2</td>\n",
              "    </tr>\n",
              "    <tr>\n",
              "      <th>BusinessTravel</th>\n",
              "      <td>3</td>\n",
              "    </tr>\n",
              "    <tr>\n",
              "      <th>DailyRate</th>\n",
              "      <td>886</td>\n",
              "    </tr>\n",
              "    <tr>\n",
              "      <th>Department</th>\n",
              "      <td>3</td>\n",
              "    </tr>\n",
              "    <tr>\n",
              "      <th>DistanceFromHome</th>\n",
              "      <td>29</td>\n",
              "    </tr>\n",
              "    <tr>\n",
              "      <th>Education</th>\n",
              "      <td>5</td>\n",
              "    </tr>\n",
              "    <tr>\n",
              "      <th>EducationField</th>\n",
              "      <td>6</td>\n",
              "    </tr>\n",
              "    <tr>\n",
              "      <th>EmployeeCount</th>\n",
              "      <td>1</td>\n",
              "    </tr>\n",
              "    <tr>\n",
              "      <th>EmployeeNumber</th>\n",
              "      <td>1470</td>\n",
              "    </tr>\n",
              "    <tr>\n",
              "      <th>EnvironmentSatisfaction</th>\n",
              "      <td>4</td>\n",
              "    </tr>\n",
              "    <tr>\n",
              "      <th>Gender</th>\n",
              "      <td>2</td>\n",
              "    </tr>\n",
              "    <tr>\n",
              "      <th>HourlyRate</th>\n",
              "      <td>71</td>\n",
              "    </tr>\n",
              "    <tr>\n",
              "      <th>JobInvolvement</th>\n",
              "      <td>4</td>\n",
              "    </tr>\n",
              "    <tr>\n",
              "      <th>JobLevel</th>\n",
              "      <td>5</td>\n",
              "    </tr>\n",
              "    <tr>\n",
              "      <th>JobRole</th>\n",
              "      <td>9</td>\n",
              "    </tr>\n",
              "    <tr>\n",
              "      <th>JobSatisfaction</th>\n",
              "      <td>4</td>\n",
              "    </tr>\n",
              "    <tr>\n",
              "      <th>MaritalStatus</th>\n",
              "      <td>3</td>\n",
              "    </tr>\n",
              "    <tr>\n",
              "      <th>MonthlyIncome</th>\n",
              "      <td>1349</td>\n",
              "    </tr>\n",
              "    <tr>\n",
              "      <th>MonthlyRate</th>\n",
              "      <td>1427</td>\n",
              "    </tr>\n",
              "    <tr>\n",
              "      <th>NumCompaniesWorked</th>\n",
              "      <td>10</td>\n",
              "    </tr>\n",
              "    <tr>\n",
              "      <th>Over18</th>\n",
              "      <td>1</td>\n",
              "    </tr>\n",
              "    <tr>\n",
              "      <th>OverTime</th>\n",
              "      <td>2</td>\n",
              "    </tr>\n",
              "    <tr>\n",
              "      <th>PercentSalaryHike</th>\n",
              "      <td>15</td>\n",
              "    </tr>\n",
              "    <tr>\n",
              "      <th>PerformanceRating</th>\n",
              "      <td>2</td>\n",
              "    </tr>\n",
              "    <tr>\n",
              "      <th>RelationshipSatisfaction</th>\n",
              "      <td>4</td>\n",
              "    </tr>\n",
              "    <tr>\n",
              "      <th>StandardHours</th>\n",
              "      <td>1</td>\n",
              "    </tr>\n",
              "    <tr>\n",
              "      <th>StockOptionLevel</th>\n",
              "      <td>4</td>\n",
              "    </tr>\n",
              "    <tr>\n",
              "      <th>TotalWorkingYears</th>\n",
              "      <td>40</td>\n",
              "    </tr>\n",
              "    <tr>\n",
              "      <th>TrainingTimesLastYear</th>\n",
              "      <td>7</td>\n",
              "    </tr>\n",
              "    <tr>\n",
              "      <th>WorkLifeBalance</th>\n",
              "      <td>4</td>\n",
              "    </tr>\n",
              "    <tr>\n",
              "      <th>YearsAtCompany</th>\n",
              "      <td>37</td>\n",
              "    </tr>\n",
              "    <tr>\n",
              "      <th>YearsInCurrentRole</th>\n",
              "      <td>19</td>\n",
              "    </tr>\n",
              "    <tr>\n",
              "      <th>YearsSinceLastPromotion</th>\n",
              "      <td>16</td>\n",
              "    </tr>\n",
              "    <tr>\n",
              "      <th>YearsWithCurrManager</th>\n",
              "      <td>18</td>\n",
              "    </tr>\n",
              "  </tbody>\n",
              "</table>\n",
              "</div>\n",
              "    <div class=\"colab-df-buttons\">\n",
              "\n",
              "  <div class=\"colab-df-container\">\n",
              "    <button class=\"colab-df-convert\" onclick=\"convertToInteractive('df-710b7402-938d-4bdc-8cc2-99d22c32c3fe')\"\n",
              "            title=\"Convert this dataframe to an interactive table.\"\n",
              "            style=\"display:none;\">\n",
              "\n",
              "  <svg xmlns=\"http://www.w3.org/2000/svg\" height=\"24px\" viewBox=\"0 -960 960 960\">\n",
              "    <path d=\"M120-120v-720h720v720H120Zm60-500h600v-160H180v160Zm220 220h160v-160H400v160Zm0 220h160v-160H400v160ZM180-400h160v-160H180v160Zm440 0h160v-160H620v160ZM180-180h160v-160H180v160Zm440 0h160v-160H620v160Z\"/>\n",
              "  </svg>\n",
              "    </button>\n",
              "\n",
              "  <style>\n",
              "    .colab-df-container {\n",
              "      display:flex;\n",
              "      gap: 12px;\n",
              "    }\n",
              "\n",
              "    .colab-df-convert {\n",
              "      background-color: #E8F0FE;\n",
              "      border: none;\n",
              "      border-radius: 50%;\n",
              "      cursor: pointer;\n",
              "      display: none;\n",
              "      fill: #1967D2;\n",
              "      height: 32px;\n",
              "      padding: 0 0 0 0;\n",
              "      width: 32px;\n",
              "    }\n",
              "\n",
              "    .colab-df-convert:hover {\n",
              "      background-color: #E2EBFA;\n",
              "      box-shadow: 0px 1px 2px rgba(60, 64, 67, 0.3), 0px 1px 3px 1px rgba(60, 64, 67, 0.15);\n",
              "      fill: #174EA6;\n",
              "    }\n",
              "\n",
              "    .colab-df-buttons div {\n",
              "      margin-bottom: 4px;\n",
              "    }\n",
              "\n",
              "    [theme=dark] .colab-df-convert {\n",
              "      background-color: #3B4455;\n",
              "      fill: #D2E3FC;\n",
              "    }\n",
              "\n",
              "    [theme=dark] .colab-df-convert:hover {\n",
              "      background-color: #434B5C;\n",
              "      box-shadow: 0px 1px 3px 1px rgba(0, 0, 0, 0.15);\n",
              "      filter: drop-shadow(0px 1px 2px rgba(0, 0, 0, 0.3));\n",
              "      fill: #FFFFFF;\n",
              "    }\n",
              "  </style>\n",
              "\n",
              "    <script>\n",
              "      const buttonEl =\n",
              "        document.querySelector('#df-710b7402-938d-4bdc-8cc2-99d22c32c3fe button.colab-df-convert');\n",
              "      buttonEl.style.display =\n",
              "        google.colab.kernel.accessAllowed ? 'block' : 'none';\n",
              "\n",
              "      async function convertToInteractive(key) {\n",
              "        const element = document.querySelector('#df-710b7402-938d-4bdc-8cc2-99d22c32c3fe');\n",
              "        const dataTable =\n",
              "          await google.colab.kernel.invokeFunction('convertToInteractive',\n",
              "                                                    [key], {});\n",
              "        if (!dataTable) return;\n",
              "\n",
              "        const docLinkHtml = 'Like what you see? Visit the ' +\n",
              "          '<a target=\"_blank\" href=https://colab.research.google.com/notebooks/data_table.ipynb>data table notebook</a>'\n",
              "          + ' to learn more about interactive tables.';\n",
              "        element.innerHTML = '';\n",
              "        dataTable['output_type'] = 'display_data';\n",
              "        await google.colab.output.renderOutput(dataTable, element);\n",
              "        const docLink = document.createElement('div');\n",
              "        docLink.innerHTML = docLinkHtml;\n",
              "        element.appendChild(docLink);\n",
              "      }\n",
              "    </script>\n",
              "  </div>\n",
              "\n",
              "\n",
              "<div id=\"df-e25ae394-be2b-4ed7-bdea-4cd37297e32e\">\n",
              "  <button class=\"colab-df-quickchart\" onclick=\"quickchart('df-e25ae394-be2b-4ed7-bdea-4cd37297e32e')\"\n",
              "            title=\"Suggest charts\"\n",
              "            style=\"display:none;\">\n",
              "\n",
              "<svg xmlns=\"http://www.w3.org/2000/svg\" height=\"24px\"viewBox=\"0 0 24 24\"\n",
              "     width=\"24px\">\n",
              "    <g>\n",
              "        <path d=\"M19 3H5c-1.1 0-2 .9-2 2v14c0 1.1.9 2 2 2h14c1.1 0 2-.9 2-2V5c0-1.1-.9-2-2-2zM9 17H7v-7h2v7zm4 0h-2V7h2v10zm4 0h-2v-4h2v4z\"/>\n",
              "    </g>\n",
              "</svg>\n",
              "  </button>\n",
              "\n",
              "<style>\n",
              "  .colab-df-quickchart {\n",
              "      --bg-color: #E8F0FE;\n",
              "      --fill-color: #1967D2;\n",
              "      --hover-bg-color: #E2EBFA;\n",
              "      --hover-fill-color: #174EA6;\n",
              "      --disabled-fill-color: #AAA;\n",
              "      --disabled-bg-color: #DDD;\n",
              "  }\n",
              "\n",
              "  [theme=dark] .colab-df-quickchart {\n",
              "      --bg-color: #3B4455;\n",
              "      --fill-color: #D2E3FC;\n",
              "      --hover-bg-color: #434B5C;\n",
              "      --hover-fill-color: #FFFFFF;\n",
              "      --disabled-bg-color: #3B4455;\n",
              "      --disabled-fill-color: #666;\n",
              "  }\n",
              "\n",
              "  .colab-df-quickchart {\n",
              "    background-color: var(--bg-color);\n",
              "    border: none;\n",
              "    border-radius: 50%;\n",
              "    cursor: pointer;\n",
              "    display: none;\n",
              "    fill: var(--fill-color);\n",
              "    height: 32px;\n",
              "    padding: 0;\n",
              "    width: 32px;\n",
              "  }\n",
              "\n",
              "  .colab-df-quickchart:hover {\n",
              "    background-color: var(--hover-bg-color);\n",
              "    box-shadow: 0 1px 2px rgba(60, 64, 67, 0.3), 0 1px 3px 1px rgba(60, 64, 67, 0.15);\n",
              "    fill: var(--button-hover-fill-color);\n",
              "  }\n",
              "\n",
              "  .colab-df-quickchart-complete:disabled,\n",
              "  .colab-df-quickchart-complete:disabled:hover {\n",
              "    background-color: var(--disabled-bg-color);\n",
              "    fill: var(--disabled-fill-color);\n",
              "    box-shadow: none;\n",
              "  }\n",
              "\n",
              "  .colab-df-spinner {\n",
              "    border: 2px solid var(--fill-color);\n",
              "    border-color: transparent;\n",
              "    border-bottom-color: var(--fill-color);\n",
              "    animation:\n",
              "      spin 1s steps(1) infinite;\n",
              "  }\n",
              "\n",
              "  @keyframes spin {\n",
              "    0% {\n",
              "      border-color: transparent;\n",
              "      border-bottom-color: var(--fill-color);\n",
              "      border-left-color: var(--fill-color);\n",
              "    }\n",
              "    20% {\n",
              "      border-color: transparent;\n",
              "      border-left-color: var(--fill-color);\n",
              "      border-top-color: var(--fill-color);\n",
              "    }\n",
              "    30% {\n",
              "      border-color: transparent;\n",
              "      border-left-color: var(--fill-color);\n",
              "      border-top-color: var(--fill-color);\n",
              "      border-right-color: var(--fill-color);\n",
              "    }\n",
              "    40% {\n",
              "      border-color: transparent;\n",
              "      border-right-color: var(--fill-color);\n",
              "      border-top-color: var(--fill-color);\n",
              "    }\n",
              "    60% {\n",
              "      border-color: transparent;\n",
              "      border-right-color: var(--fill-color);\n",
              "    }\n",
              "    80% {\n",
              "      border-color: transparent;\n",
              "      border-right-color: var(--fill-color);\n",
              "      border-bottom-color: var(--fill-color);\n",
              "    }\n",
              "    90% {\n",
              "      border-color: transparent;\n",
              "      border-bottom-color: var(--fill-color);\n",
              "    }\n",
              "  }\n",
              "</style>\n",
              "\n",
              "  <script>\n",
              "    async function quickchart(key) {\n",
              "      const quickchartButtonEl =\n",
              "        document.querySelector('#' + key + ' button');\n",
              "      quickchartButtonEl.disabled = true;  // To prevent multiple clicks.\n",
              "      quickchartButtonEl.classList.add('colab-df-spinner');\n",
              "      try {\n",
              "        const charts = await google.colab.kernel.invokeFunction(\n",
              "            'suggestCharts', [key], {});\n",
              "      } catch (error) {\n",
              "        console.error('Error during call to suggestCharts:', error);\n",
              "      }\n",
              "      quickchartButtonEl.classList.remove('colab-df-spinner');\n",
              "      quickchartButtonEl.classList.add('colab-df-quickchart-complete');\n",
              "    }\n",
              "    (() => {\n",
              "      let quickchartButtonEl =\n",
              "        document.querySelector('#df-e25ae394-be2b-4ed7-bdea-4cd37297e32e button');\n",
              "      quickchartButtonEl.style.display =\n",
              "        google.colab.kernel.accessAllowed ? 'block' : 'none';\n",
              "    })();\n",
              "  </script>\n",
              "</div>\n",
              "\n",
              "    </div>\n",
              "  </div>\n"
            ],
            "application/vnd.google.colaboratory.intrinsic+json": {
              "type": "dataframe",
              "summary": "{\n  \"name\": \"data\",\n  \"rows\": 35,\n  \"fields\": [\n    {\n      \"column\": \"Unique Values\",\n      \"properties\": {\n        \"dtype\": \"number\",\n        \"std\": 418,\n        \"min\": 1,\n        \"max\": 1470,\n        \"num_unique_values\": 22,\n        \"samples\": [\n          43,\n          1427,\n          1470\n        ],\n        \"semantic_type\": \"\",\n        \"description\": \"\"\n      }\n    }\n  ]\n}"
            }
          },
          "metadata": {},
          "execution_count": 12
        }
      ],
      "source": [
        "data.nunique().to_frame('Unique Values')"
      ]
    },
    {
      "cell_type": "markdown",
      "metadata": {
        "id": "SApotVphlKVq"
      },
      "source": [
        "#### Observations\n",
        "- The data has 29 features and 1470 rows.\n",
        "- The data is complete with no nul vualues.\n",
        "- Each record has a unique employee id\n",
        "- There are no duplicate records in the data.\n",
        "- The columns data types are int, float, and object."
      ]
    },
    {
      "cell_type": "markdown",
      "metadata": {
        "id": "koGisthjcTRB"
      },
      "source": [
        "Visual of attrition rate"
      ]
    },
    {
      "cell_type": "code",
      "execution_count": null,
      "metadata": {
        "colab": {
          "base_uri": "https://localhost:8080/",
          "height": 651
        },
        "id": "X_RXxmfucz3w",
        "outputId": "13a3a0b3-018d-4d93-95ca-08f6ce4c92fd"
      },
      "outputs": [
        {
          "output_type": "stream",
          "name": "stderr",
          "text": [
            "<ipython-input-13-41164cff3670>:3: FutureWarning: \n",
            "\n",
            "Passing `palette` without assigning `hue` is deprecated and will be removed in v0.14.0. Assign the `x` variable to `hue` and set `legend=False` for the same effect.\n",
            "\n",
            "  sns.countplot(data=data, x='Attrition', palette='coolwarm')\n"
          ]
        },
        {
          "output_type": "display_data",
          "data": {
            "text/plain": [
              "<Figure size 800x600 with 1 Axes>"
            ],
            "image/png": "[encoded data removed]"
          },
          "metadata": {}
        }
      ],
      "source": [
        "# Plot attrition distribution\n",
        "plt.figure(figsize=(8, 6))\n",
        "sns.countplot(data=data, x='Attrition', palette='coolwarm')\n",
        "plt.title('Attrition Distribution')\n",
        "plt.xlabel('Attrition')\n",
        "plt.ylabel('Count')\n",
        "plt.show()\n",
        "\n"
      ]
    },
    {
      "cell_type": "markdown",
      "metadata": {
        "id": "E1kfTSwxdbRr"
      },
      "source": [
        "##### **Attrition Distribution Explanation**\n",
        "\n",
        "The graph shows a highly imbalanced distribution of employee attrition, where the majority of employees, approximately 85%, have not left the organization (labeled as \"No\"), while only about 15% have left (labeled as \"Yes\"). This indicates that attrition is relatively low within the company, which may simplify prediction models but also highlights the need to address the specific factors leading to attrition among the minority group.\n"
      ]
    },
    {
      "cell_type": "markdown",
      "metadata": {
        "id": "wwS8Wmu2duTs"
      },
      "source": [
        "#### **Attrition by Job Role**"
      ]
    },
    {
      "cell_type": "code",
      "execution_count": null,
      "metadata": {
        "colab": {
          "base_uri": "https://localhost:8080/",
          "height": 691
        },
        "id": "3h-YBwzYsyJd",
        "outputId": "e8e1ebdb-8c5a-44fe-b155-5c3576aec4c8"
      },
      "outputs": [
        {
          "output_type": "display_data",
          "data": {
            "text/plain": [
              "<Figure size 1200x600 with 1 Axes>"
            ],
            "image/png": "[encoded data removed]"
          },
          "metadata": {}
        }
      ],
      "source": [
        "# Calculate counts and percentages by EducationField and Attrition\n",
        "grouped = data.groupby(['JobRole', 'Attrition']).size().reset_index(name='Count')\n",
        "grouped['Percent'] = grouped.groupby('JobRole')['Count'].transform(lambda x: (x / x.sum()) * 100)\n",
        "\n",
        "# Create the countplot\n",
        "plt.figure(figsize=(12, 6))\n",
        "ax = sns.countplot(data=data, x='JobRole', hue='Attrition', palette='viridis')\n",
        "\n",
        "# Annotate bars with correct percentages\n",
        "for container, attrition in zip(ax.containers, ['Yes', 'No']):  # Match bar containers to Attrition values\n",
        "    for bar, (_, row) in zip(container, grouped[grouped['Attrition'] == attrition].iterrows()):\n",
        "        ax.text(\n",
        "            bar.get_x() + bar.get_width() / 2,  # Center of the bar\n",
        "            bar.get_height(),  # Height of the bar\n",
        "            f'{row[\"Percent\"]:.1f}%',  # Percentage value\n",
        "            ha='center', va='bottom', fontsize=10  # Alignment and font size\n",
        "        )\n",
        "\n",
        "# Customize the plot\n",
        "plt.title('Attrition by JobRole (with Percentages)')\n",
        "plt.xlabel('JobRole')\n",
        "plt.ylabel('Count')\n",
        "plt.xticks(rotation=45)\n",
        "plt.legend(title='Attrition', loc='upper right')\n",
        "plt.show()"
      ]
    },
    {
      "cell_type": "markdown",
      "metadata": {
        "id": "R6dcV7Vtmotp"
      },
      "source": [
        "\n",
        "\n",
        "The graph shows the percentage distribution of employee attrition (Yes/No) across various job roles.\n",
        "\n",
        "#### **Key Observations:**\n",
        "1. **Sales Executive** and **Research Scientist** roles have relatively higher attrition rates at **6.9%** and **23.1%**, respectively.\n",
        "2. **Laboratory Technicians** experience significant attrition at **23.9%**, indicating a potential retention issue in this role.\n",
        "3. **Healthcare Representatives** and **Managers** show minimal attrition rates at **4.9%** and **2.5%**, respectively, suggesting these roles have better retention.\n",
        "4. **Sales Representatives** have an attrition rate of **16.1%**, while **Research Directors** show **17.5%**, highlighting moderate levels of turnover.\n",
        "5. **Human Resources** stands out with **39.8% attrition**, the highest among all job roles.\n",
        "\n",
        "#### **Conclusion:**\n",
        "The graph provides insights into which job roles are more prone to attrition, helping the organization to target retention efforts where needed most, such as in **Human Resources** and **Laboratory Technicians**.\n"
      ]
    },
    {
      "cell_type": "markdown",
      "metadata": {
        "id": "hHcPq_3LoWeo"
      },
      "source": [
        "#### **Attrition by Years at Company**"
      ]
    },
    {
      "cell_type": "code",
      "execution_count": null,
      "metadata": {
        "colab": {
          "base_uri": "https://localhost:8080/",
          "height": 568
        },
        "id": "74GBHnU1QrpY",
        "outputId": "a18512cf-d358-4e0a-b17e-2be1970de54b"
      },
      "outputs": [
        {
          "output_type": "display_data",
          "data": {
            "text/plain": [
              "<Figure size 1200x600 with 1 Axes>"
            ],
            "image/png": "[encoded data removed]"
          },
          "metadata": {}
        }
      ],
      "source": [
        "# YearsAtCompany\n",
        "\n",
        "# Calculate counts and percentages by EducationField and Attrition\n",
        "grouped = data.groupby(['YearsAtCompany', 'Attrition']).size().reset_index(name='Count')\n",
        "grouped['Percent'] = grouped.groupby('YearsAtCompany')['Count'].transform(lambda x: (x / x.sum()) * 100)\n",
        "\n",
        "# Create the countplot\n",
        "plt.figure(figsize=(12, 6))\n",
        "ax = sns.countplot(data=data, x='YearsAtCompany', hue='Attrition', palette='viridis')\n",
        "\n",
        "# Annotate bars with correct percentages\n",
        "for container, attrition in zip(ax.containers, ['Yes', 'No']):  # Match bar containers to Attrition values\n",
        "    for bar, (_, row) in zip(container, grouped[grouped['Attrition'] == attrition].iterrows()):\n",
        "        ax.text(\n",
        "            bar.get_x() + bar.get_width() / 2,  # Center of the bar\n",
        "            bar.get_height(),  # Height of the bar\n",
        "            f'{row[\"Percent\"]:.1f}%',  # Percentage value\n",
        "            ha='center', va='bottom', fontsize=10  # Alignment and font size\n",
        "        )\n",
        "\n",
        "# Customize the plot\n",
        "plt.title('Attrition by YearsAtCompany (with Percentages)')\n",
        "plt.xlabel('YearsAtCompany')\n",
        "plt.ylabel('Count')\n",
        "plt.xticks(rotation=-270)\n",
        "plt.legend(title='Attrition', loc='upper right')\n",
        "plt.show()"
      ]
    },
    {
      "cell_type": "markdown",
      "metadata": {
        "id": "rdPNAPhDQysZ"
      },
      "source": [
        "\n",
        "\n",
        "The graph displays the distribution of employee attrition based on their years at the company, highlighting both counts and percentages.\n",
        "\n",
        "#### **Key Observations:**\n",
        "1. **High Attrition in Early Years:**\n",
        "   - Attrition is highest during the first year of employment, with **34.5%** of employees leaving.\n",
        "   - Attrition rates gradually decrease as tenure increases, dropping to **11.8%** by year 5.\n",
        "\n",
        "2. **Low Attrition in Later Years:**\n",
        "   - Employees with over 10 years at the company show very low attrition rates, with some years (e.g., 12, 15, 16) experiencing **0% attrition**.\n",
        "\n",
        "3. **Retention Trends:**\n",
        "   - Employees tend to stay with the company longer once they surpass the initial 3–5 years, as seen with increasing \"No\" percentages (e.g., **89.3%** at year 2, **96.3%** at year 20).\n",
        "\n",
        "#### **Conclusion:**\n",
        "The graph highlights a retention challenge during the early years of employment, suggesting the need for improved onboarding and early-career engagement strategies to reduce initial attrition.\n"
      ]
    },
    {
      "cell_type": "markdown",
      "metadata": {
        "id": "XJT82RW3eVL2"
      },
      "source": [
        "#### **Monthly Income vs. Attrition**"
      ]
    },
    {
      "cell_type": "code",
      "execution_count": null,
      "metadata": {
        "colab": {
          "base_uri": "https://localhost:8080/",
          "height": 651
        },
        "id": "CVDGGK9peX7-",
        "outputId": "6b4b4b48-dbd2-408f-c958-b1ea8b20107b"
      },
      "outputs": [
        {
          "output_type": "stream",
          "name": "stderr",
          "text": [
            "<ipython-input-16-befa21a98f7c>:2: FutureWarning: \n",
            "\n",
            "Passing `palette` without assigning `hue` is deprecated and will be removed in v0.14.0. Assign the `x` variable to `hue` and set `legend=False` for the same effect.\n",
            "\n",
            "  sns.boxplot(data=data, x='Attrition', y='MonthlyIncome', palette='Set3')\n"
          ]
        },
        {
          "output_type": "display_data",
          "data": {
            "text/plain": [
              "<Figure size 800x600 with 1 Axes>"
            ],
            "image/png": "[encoded data removed]"
          },
          "metadata": {}
        }
      ],
      "source": [
        "plt.figure(figsize=(8, 6))\n",
        "sns.boxplot(data=data, x='Attrition', y='MonthlyIncome', palette='Set3')\n",
        "plt.title('Monthly Income vs. Attrition')\n",
        "plt.xlabel('Attrition')\n",
        "plt.ylabel('Monthly Income')\n",
        "plt.show()"
      ]
    },
    {
      "cell_type": "markdown",
      "metadata": {
        "id": "4lvdhXA1efjL"
      },
      "source": [
        "\n",
        "\n",
        "The box plots show that employees who did not leave (\"No\") generally have higher monthly incomes compared to those who left (\"Yes\"). The median income is notably lower for those who left, and there are more outliers (high-income earners) among employees who stayed. This suggests a possible correlation between higher income and better retention.\n"
      ]
    },
    {
      "cell_type": "markdown",
      "metadata": {
        "id": "G4i_UHnMeicW"
      },
      "source": [
        "#### **Distance From Home vs. Attrition**"
      ]
    },
    {
      "cell_type": "code",
      "execution_count": null,
      "metadata": {
        "colab": {
          "base_uri": "https://localhost:8080/",
          "height": 651
        },
        "id": "ZtkiMXfQeljE",
        "outputId": "b43141e6-d7f9-4aeb-feb2-60a5b2e79dda"
      },
      "outputs": [
        {
          "output_type": "stream",
          "name": "stderr",
          "text": [
            "<ipython-input-17-d3168c7d5c6d>:2: FutureWarning: \n",
            "\n",
            "Passing `palette` without assigning `hue` is deprecated and will be removed in v0.14.0. Assign the `x` variable to `hue` and set `legend=False` for the same effect.\n",
            "\n",
            "  sns.boxplot(data=data, x='Attrition', y='DistanceFromHome', palette='coolwarm')\n"
          ]
        },
        {
          "output_type": "display_data",
          "data": {
            "text/plain": [
              "<Figure size 800x600 with 1 Axes>"
            ],
            "image/png": "[encoded data removed]"
          },
          "metadata": {}
        }
      ],
      "source": [
        "plt.figure(figsize=(8, 6))\n",
        "sns.boxplot(data=data, x='Attrition', y='DistanceFromHome', palette='coolwarm')\n",
        "plt.title('Distance From Home vs. Attrition')\n",
        "plt.xlabel('Attrition')\n",
        "plt.ylabel('Distance From Home')\n",
        "plt.show()"
      ]
    },
    {
      "cell_type": "markdown",
      "metadata": {
        "id": "Im9Ya6mte2ip"
      },
      "source": [
        "\n",
        "\n",
        "The box plots show that employees who left (\"Yes\") generally live farther from work compared to those who stayed (\"No\"). The median distance for attrition cases is higher, suggesting that longer commutes might contribute to higher attrition rates. However, there is overlap, indicating that other factors likely influence attrition as well.\n"
      ]
    },
    {
      "cell_type": "markdown",
      "metadata": {
        "id": "-AA-aL9qfFIi"
      },
      "source": [
        "#### **Job Satisfaction vs. Attrition**"
      ]
    },
    {
      "cell_type": "code",
      "execution_count": null,
      "metadata": {
        "colab": {
          "base_uri": "https://localhost:8080/",
          "height": 651
        },
        "id": "9yw0czSVfJUl",
        "outputId": "e594fe8a-0cf9-44d2-e401-dfd85f0d5a65"
      },
      "outputs": [
        {
          "output_type": "stream",
          "name": "stderr",
          "text": [
            "<ipython-input-18-9dd1b468d1c4>:2: FutureWarning: \n",
            "\n",
            "Passing `palette` without assigning `hue` is deprecated and will be removed in v0.14.0. Assign the `x` variable to `hue` and set `legend=False` for the same effect.\n",
            "\n",
            "  sns.boxplot(data=data, x='Attrition', y='JobSatisfaction', palette='Set2')\n"
          ]
        },
        {
          "output_type": "display_data",
          "data": {
            "text/plain": [
              "<Figure size 800x600 with 1 Axes>"
            ],
            "image/png": "[encoded data removed]"
          },
          "metadata": {}
        }
      ],
      "source": [
        "plt.figure(figsize=(8, 6))\n",
        "sns.boxplot(data=data, x='Attrition', y='JobSatisfaction', palette='Set2')\n",
        "plt.title('Job Satisfaction vs. Attrition')\n",
        "plt.xlabel('Attrition')\n",
        "plt.ylabel('Job Satisfaction')\n",
        "plt.show()"
      ]
    },
    {
      "cell_type": "markdown",
      "metadata": {
        "id": "Q66Cgab1fLuz"
      },
      "source": [
        "\n",
        "\n",
        "The box plots reveal that employees who stayed (\"No\") generally have higher job satisfaction levels, with a median value closer to 3.5. In contrast, employees who left (\"Yes\") have a lower median job satisfaction around 2.5. This suggests a strong correlation between lower job satisfaction and higher attrition rates, indicating that dissatisfaction might be a key driver of employee turnover.\n"
      ]
    },
    {
      "cell_type": "markdown",
      "metadata": {
        "id": "5McPeyGKfZGn"
      },
      "source": [
        "#### **Attrition by Education Field**"
      ]
    },
    {
      "cell_type": "code",
      "execution_count": null,
      "metadata": {
        "colab": {
          "base_uri": "https://localhost:8080/",
          "height": 648
        },
        "id": "BgQsIWnHfcQq",
        "outputId": "f6837f6c-1b43-4e84-bcb7-bce47158d806"
      },
      "outputs": [
        {
          "output_type": "display_data",
          "data": {
            "text/plain": [
              "<Figure size 1200x600 with 1 Axes>"
            ],
            "image/png": "[encoded data removed]"
          },
          "metadata": {}
        }
      ],
      "source": [
        "# Calculate counts and percentages by EducationField and Attrition\n",
        "grouped = data.groupby(['EducationField', 'Attrition']).size().reset_index(name='Count')\n",
        "grouped['Percent'] = grouped.groupby('EducationField')['Count'].transform(lambda x: (x / x.sum()) * 100)\n",
        "\n",
        "# Create the countplot\n",
        "plt.figure(figsize=(12, 6))\n",
        "ax = sns.countplot(data=data, x='EducationField', hue='Attrition', palette='viridis')\n",
        "\n",
        "# Annotate bars with correct percentages\n",
        "for container, attrition in zip(ax.containers, ['Yes', 'No']):  # Match bar containers to Attrition values\n",
        "    for bar, (_, row) in zip(container, grouped[grouped['Attrition'] == attrition].iterrows()):\n",
        "        ax.text(\n",
        "            bar.get_x() + bar.get_width() / 2,  # Center of the bar\n",
        "            bar.get_height(),  # Height of the bar\n",
        "            f'{row[\"Percent\"]:.1f}%',  # Percentage value\n",
        "            ha='center', va='bottom', fontsize=10  # Alignment and font size\n",
        "        )\n",
        "\n",
        "# Customize the plot\n",
        "plt.title('Attrition by Education Field (with Percentages)')\n",
        "plt.xlabel('Education Field')\n",
        "plt.ylabel('Count')\n",
        "plt.xticks(rotation=45)\n",
        "plt.legend(title='Attrition', loc='upper right')\n",
        "plt.show()\n"
      ]
    },
    {
      "cell_type": "markdown",
      "metadata": {
        "id": "y17e7gehq2KE"
      },
      "source": [
        "\n",
        "\n",
        "The bar chart shows the percentage distribution of employee attrition (Yes/No) across different education fields.\n",
        "\n",
        "#### **Key Observations:**\n",
        "1. **Highest Attrition:**\n",
        "   - Employees in the **Life Sciences** field have a notable attrition rate of **25.9%**, despite forming a large proportion of the workforce.\n",
        "   - **Human Resources** also shows significant attrition at **24.2%.**\n",
        "\n",
        "2. **Lowest Attrition:**\n",
        "   - Fields like **Marketing** and **Technical Degrees** have lower attrition rates of **13.6%** and **13.4%**, respectively.\n",
        "\n",
        "3. **Retention Trends:**\n",
        "   - **Medical** and **Other** fields exhibit moderate attrition rates at **22.0%** and **14.7%**, suggesting better retention than Life Sciences and HR but worse than Marketing or Technical roles.\n",
        "\n",
        "#### **Conclusion:**\n",
        "Attrition rates vary significantly across education fields, with higher turnover in Life Sciences and HR. This suggests targeted retention strategies may be needed for employees in these fields.\n"
      ]
    },
    {
      "cell_type": "markdown",
      "metadata": {
        "id": "VctAAmW9rhOR"
      },
      "source": [
        "#### **Attrition by Gender**"
      ]
    },
    {
      "cell_type": "code",
      "execution_count": null,
      "metadata": {
        "colab": {
          "base_uri": "https://localhost:8080/",
          "height": 564
        },
        "id": "bbl2gAcsRQwQ",
        "outputId": "c6b1c19e-9801-4249-bdd8-8d96883171d3"
      },
      "outputs": [
        {
          "output_type": "display_data",
          "data": {
            "text/plain": [
              "<Figure size 1200x600 with 1 Axes>"
            ],
            "image/png": "[encoded data removed]"
          },
          "metadata": {}
        }
      ],
      "source": [
        "import pandas as pd\n",
        "import seaborn as sns\n",
        "import matplotlib.pyplot as plt\n",
        "\n",
        "# Calculate counts and percentages by Gender and Attrition\n",
        "grouped = data.groupby(['Gender', 'Attrition']).size().reset_index(name='Count')\n",
        "grouped['Percent'] = grouped.groupby('Gender')['Count'].transform(lambda x: (x / x.sum()) * 100)\n",
        "\n",
        "# Create the countplot\n",
        "plt.figure(figsize=(12, 6))\n",
        "ax = sns.countplot(data=data, x='Gender', hue='Attrition', palette='viridis')\n",
        "\n",
        "# Annotate bars with correct percentages\n",
        "for container, attrition in zip(ax.containers, ['Yes', 'No']):  # Match bar containers to Attrition values\n",
        "    for bar, (_, row) in zip(container, grouped[grouped['Attrition'] == attrition].iterrows()):\n",
        "        ax.text(\n",
        "            bar.get_x() + bar.get_width() / 2,  # Center of the bar\n",
        "            bar.get_height(),  # Height of the bar\n",
        "            f'{row[\"Percent\"]:.1f}%',  # Percentage value\n",
        "            ha='center', va='bottom', fontsize=10  # Alignment and font size\n",
        "        )\n",
        "\n",
        "# Customize the plot\n",
        "plt.title('Attrition by Gender (with Percentages)')\n",
        "plt.xlabel('Gender')\n",
        "plt.ylabel('Count')\n",
        "plt.xticks(rotation=0)\n",
        "plt.legend(title='Attrition', loc='upper right')\n",
        "plt.show()\n"
      ]
    },
    {
      "cell_type": "markdown",
      "metadata": {
        "id": "DfoC8ejgRVHu"
      },
      "source": [
        "\n",
        "\n",
        "The bar chart displays the percentage of employee attrition (Yes/No) segmented by gender.\n",
        "\n",
        "#### **Key Observations:**\n",
        "1. **Attrition Rates:**\n",
        "   - **Males:** Show a higher attrition rate of **17.0%** compared to females.\n",
        "   - **Females:** Have a lower attrition rate of **14.8%**.\n",
        "\n",
        "2. **Retention Trends:**\n",
        "   - Both genders have strong retention rates, with **85.2%** of females and **83.0%** of males staying in the organization.\n",
        "\n",
        "#### **Conclusion:**\n",
        "The differences in attrition rates between genders are minimal, but males exhibit slightly higher turnover. This suggests gender may have a limited but measurable influence on attrition.\n"
      ]
    },
    {
      "cell_type": "markdown",
      "metadata": {
        "id": "cJp4om_uuE47"
      },
      "source": [
        "###Data Transformations\n"
      ]
    },
    {
      "cell_type": "markdown",
      "metadata": {
        "id": "geUsj5GZvITK"
      },
      "source": [
        "drop non-predictive variables"
      ]
    },
    {
      "cell_type": "code",
      "execution_count": null,
      "metadata": {
        "id": "y-YML44HvLqa"
      },
      "outputs": [],
      "source": [
        "# Drop non-predictive or redundant columns (we will also remove gender to avoid bias)\n",
        "# data.drop(columns=['EmployeeNumber', 'Over18', 'StandardHours', 'EmployeeCount','Gender'], inplace=True)\n",
        "\n",
        "features_to_drop = [\n",
        "    'JobLevel',  # Highly correlated with MonthlyIncome\n",
        "    'YearsInCurrentRole',  # Highly correlated with YearsWithCurrManager\n",
        "    'DailyRate', 'HourlyRate', 'MonthlyRate',  # Weak correlation with churn\n",
        "    'PercentSalaryHike', 'PerformanceRating',  # If weak correlation with churn\n",
        "    'EmployeeNumber', 'Over18', 'StandardHours', 'EmployeeCount'\n",
        "]\n",
        "\n",
        "data.drop(columns=features_to_drop, inplace=True)"
      ]
    },
    {
      "cell_type": "code",
      "execution_count": null,
      "metadata": {
        "id": "8ZevMn8AuXpM"
      },
      "outputs": [],
      "source": [
        "# Convert Attrition to binary format\n",
        "data['Attrition_Binary'] = data['Attrition'].map({'Yes': 1, 'No': 0})"
      ]
    },
    {
      "cell_type": "code",
      "execution_count": null,
      "metadata": {
        "id": "wjAspJewv0fH"
      },
      "outputs": [],
      "source": [
        "#drop Attrition\n",
        "data.drop(columns=['Attrition'], inplace=True)"
      ]
    },
    {
      "cell_type": "code",
      "execution_count": null,
      "metadata": {
        "id": "awQ2SX77RetE"
      },
      "outputs": [],
      "source": [
        "# Xavier - FEATURE ENGINEERING\n",
        "\n",
        "# Tenure: Combine TotalWorkingYears, YearsInCurrentRole, and YearsWithCurrManager\n",
        "data['Tenure'] = data['TotalWorkingYears'] + data['YearsWithCurrManager']\n",
        "\n",
        "#  Income Ratio: Create MonthlyIncome/TotalWorkingYears (handling division by zero)\n",
        "data['IncomeRatio'] = data['MonthlyIncome'] / (data['TotalWorkingYears'] + 1)\n",
        "\n",
        "# BusinessTravel Intensity: Combine BusinessTravel features into binary\n",
        "data['BusinessTravel_Intensity'] = data['BusinessTravel'].apply(\n",
        "    lambda x: 1 if x == 'Travel_Frequently' else 0\n",
        ")\n",
        "\n",
        "# convert overtime\n",
        "data['OverTime_binnary'] = data['OverTime'].apply(\n",
        "    lambda x: 1 if x == 'Yes' else 0\n",
        ")\n",
        "\n",
        "# Simplify Job Roles: Group less frequent roles into broader categories\n",
        "job_role_mapping = {\n",
        "    'Sales Representative': 1,  #'Sales'\n",
        "    'Research Scientist': 2, #'Research',\n",
        "    'Laboratory Technician': 3, #'Technician',\n",
        "    'Sales Executive': 1, #'Sales',\n",
        "    'Manager': 4, #'Management',\n",
        "    'Manufacturing Director': 4, #'Management',\n",
        "    'Healthcare Representative': 5, #'Support',\n",
        "    'Human Resources': 5, #'Support',\n",
        "    'Research Director': 4, #'Management'\n",
        "}\n",
        "data['JobRole_Grouped'] = data['JobRole'].map(job_role_mapping)\n",
        "\n",
        "# Drop original features after re-engineering\n",
        "data.drop(columns=['TotalWorkingYears', 'YearsWithCurrManager', 'BusinessTravel', 'JobRole'], inplace=True)\n"
      ]
    },
    {
      "cell_type": "code",
      "execution_count": null,
      "metadata": {
        "id": "KnmZkJnQRmix"
      },
      "outputs": [],
      "source": [
        "data.drop(columns=['OverTime','Gender'], inplace=True)\n"
      ]
    },
    {
      "cell_type": "code",
      "execution_count": null,
      "metadata": {
        "colab": {
          "base_uri": "https://localhost:8080/"
        },
        "id": "skgVV_vNRpdr",
        "outputId": "a11d3584-2555-4f6b-f731-24c2c464e227"
      },
      "outputs": [
        {
          "output_type": "execute_result",
          "data": {
            "text/plain": [
              "['Age',\n",
              " 'Department',\n",
              " 'DistanceFromHome',\n",
              " 'Education',\n",
              " 'EducationField',\n",
              " 'EnvironmentSatisfaction',\n",
              " 'JobInvolvement',\n",
              " 'JobSatisfaction',\n",
              " 'MaritalStatus',\n",
              " 'MonthlyIncome',\n",
              " 'NumCompaniesWorked',\n",
              " 'RelationshipSatisfaction',\n",
              " 'StockOptionLevel',\n",
              " 'TrainingTimesLastYear',\n",
              " 'WorkLifeBalance',\n",
              " 'YearsAtCompany',\n",
              " 'YearsSinceLastPromotion',\n",
              " 'Attrition_Binary',\n",
              " 'Tenure',\n",
              " 'IncomeRatio',\n",
              " 'BusinessTravel_Intensity',\n",
              " 'OverTime_binnary',\n",
              " 'JobRole_Grouped']"
            ]
          },
          "metadata": {},
          "execution_count": 26
        }
      ],
      "source": [
        "# lets see our new columns\n",
        "\n",
        "data.columns.tolist()"
      ]
    },
    {
      "cell_type": "markdown",
      "metadata": {
        "id": "TQxhTkEZul9Z"
      },
      "source": [
        "one hot encode categorical"
      ]
    },
    {
      "cell_type": "code",
      "execution_count": null,
      "metadata": {
        "id": "7OuwZ0c-uqqW"
      },
      "outputs": [],
      "source": [
        "# One-hot encode categorical features\n",
        "data = pd.get_dummies(data, columns=['Department', 'MaritalStatus','EducationField'], drop_first=True)"
      ]
    },
    {
      "cell_type": "markdown",
      "metadata": {
        "id": "iFOil9WUu9kr"
      },
      "source": [
        "scale numerical features"
      ]
    },
    {
      "cell_type": "code",
      "execution_count": null,
      "metadata": {
        "colab": {
          "base_uri": "https://localhost:8080/"
        },
        "id": "d5tojvGHR0oa",
        "outputId": "2b36e5e6-2cda-4ec8-fb2d-c092ca5cd604"
      },
      "outputs": [
        {
          "output_type": "stream",
          "name": "stdout",
          "text": [
            "Numerical Columns:\n",
            "Index(['Age', 'DistanceFromHome', 'Education', 'EnvironmentSatisfaction',\n",
            "       'JobInvolvement', 'JobSatisfaction', 'MonthlyIncome',\n",
            "       'NumCompaniesWorked', 'RelationshipSatisfaction', 'StockOptionLevel',\n",
            "       'TrainingTimesLastYear', 'WorkLifeBalance', 'YearsAtCompany',\n",
            "       'YearsSinceLastPromotion', 'Tenure', 'IncomeRatio',\n",
            "       'BusinessTravel_Intensity', 'OverTime_binnary', 'JobRole_Grouped'],\n",
            "      dtype='object')\n"
          ]
        }
      ],
      "source": [
        "# Identify numerical columns\n",
        "numerical_features = data.select_dtypes(include=['number']).columns\n",
        "numerical_features = numerical_features.drop('Attrition_Binary')\n",
        "print(\"Numerical Columns:\")\n",
        "print(numerical_features)"
      ]
    },
    {
      "cell_type": "code",
      "execution_count": null,
      "metadata": {
        "id": "MFbr8DUwu7yt"
      },
      "outputs": [],
      "source": [
        "from sklearn.preprocessing import StandardScaler\n",
        "\n",
        "# Identify numerical columns\n",
        "# numerical_features = ['Age', 'DailyRate', 'DistanceFromHome', 'MonthlyIncome', 'YearsAtCompany',\n",
        "#                       'YearsInCurrentRole', 'YearsSinceLastPromotion', 'YearsWithCurrManager']\n",
        "\n",
        "# Apply standard scaling\n",
        "scaler = StandardScaler()\n",
        "data[numerical_features] = scaler.fit_transform(data[numerical_features])\n",
        "\n"
      ]
    },
    {
      "cell_type": "markdown",
      "metadata": {
        "id": "abAx5P490S66"
      },
      "source": [
        "last step - convert bool to int"
      ]
    },
    {
      "cell_type": "code",
      "execution_count": null,
      "metadata": {
        "id": "9USNUIY00XPK"
      },
      "outputs": [],
      "source": [
        "# Convert boolean columns to integers\n",
        "bool_cols = data.select_dtypes(include='bool').columns\n",
        "data[bool_cols] = data[bool_cols].astype(int)"
      ]
    },
    {
      "cell_type": "code",
      "execution_count": null,
      "metadata": {
        "colab": {
          "base_uri": "https://localhost:8080/"
        },
        "collapsed": true,
        "id": "AI68lLS-wXej",
        "outputId": "770b1987-70e4-49bb-a392-7cdb1d19d700"
      },
      "outputs": [
        {
          "output_type": "stream",
          "name": "stdout",
          "text": [
            "<class 'pandas.core.frame.DataFrame'>\n",
            "RangeIndex: 1470 entries, 0 to 1469\n",
            "Data columns (total 29 columns):\n",
            " #   Column                             Non-Null Count  Dtype  \n",
            "---  ------                             --------------  -----  \n",
            " 0   Age                                1470 non-null   float64\n",
            " 1   DistanceFromHome                   1470 non-null   float64\n",
            " 2   Education                          1470 non-null   float64\n",
            " 3   EnvironmentSatisfaction            1470 non-null   float64\n",
            " 4   JobInvolvement                     1470 non-null   float64\n",
            " 5   JobSatisfaction                    1470 non-null   float64\n",
            " 6   MonthlyIncome                      1470 non-null   float64\n",
            " 7   NumCompaniesWorked                 1470 non-null   float64\n",
            " 8   RelationshipSatisfaction           1470 non-null   float64\n",
            " 9   StockOptionLevel                   1470 non-null   float64\n",
            " 10  TrainingTimesLastYear              1470 non-null   float64\n",
            " 11  WorkLifeBalance                    1470 non-null   float64\n",
            " 12  YearsAtCompany                     1470 non-null   float64\n",
            " 13  YearsSinceLastPromotion            1470 non-null   float64\n",
            " 14  Attrition_Binary                   1470 non-null   int64  \n",
            " 15  Tenure                             1470 non-null   float64\n",
            " 16  IncomeRatio                        1470 non-null   float64\n",
            " 17  BusinessTravel_Intensity           1470 non-null   float64\n",
            " 18  OverTime_binnary                   1470 non-null   float64\n",
            " 19  JobRole_Grouped                    1470 non-null   float64\n",
            " 20  Department_Research & Development  1470 non-null   int64  \n",
            " 21  Department_Sales                   1470 non-null   int64  \n",
            " 22  MaritalStatus_Married              1470 non-null   int64  \n",
            " 23  MaritalStatus_Single               1470 non-null   int64  \n",
            " 24  EducationField_Life Sciences       1470 non-null   int64  \n",
            " 25  EducationField_Marketing           1470 non-null   int64  \n",
            " 26  EducationField_Medical             1470 non-null   int64  \n",
            " 27  EducationField_Other               1470 non-null   int64  \n",
            " 28  EducationField_Technical Degree    1470 non-null   int64  \n",
            "dtypes: float64(19), int64(10)\n",
            "memory usage: 333.2 KB\n",
            "\n",
            " Info\n",
            " None\n"
          ]
        }
      ],
      "source": [
        "print(\"\\n Info\\n\", data.info())"
      ]
    },
    {
      "cell_type": "markdown",
      "metadata": {
        "id": "QHyktJXFqcd8"
      },
      "source": [
        "###Correlation Analysis"
      ]
    },
    {
      "cell_type": "code",
      "execution_count": null,
      "metadata": {
        "colab": {
          "base_uri": "https://localhost:8080/"
        },
        "id": "vfg1gqdP5qp7",
        "outputId": "a7c58df7-5c72-446a-bfcd-918a38c3b752"
      },
      "outputs": [
        {
          "output_type": "stream",
          "name": "stdout",
          "text": [
            "Features correlated with Attrition_Binary (|correlation| > 0.1):\n",
            "OverTime_binnary: 0.25\n",
            "Tenure: -0.19\n",
            "MaritalStatus_Single: 0.18\n",
            "MonthlyIncome: -0.16\n",
            "Age: -0.16\n",
            "StockOptionLevel: -0.14\n",
            "YearsAtCompany: -0.13\n",
            "JobRole_Grouped: -0.13\n",
            "JobInvolvement: -0.13\n",
            "BusinessTravel_Intensity: 0.12\n",
            "JobSatisfaction: -0.10\n",
            "EnvironmentSatisfaction: -0.10\n"
          ]
        }
      ],
      "source": [
        "def get_correlations_with_attrition(data, threshold=0.1):\n",
        "    # Ensure 'Attrition_Binary' is numeric (0 for 'No', 1 for 'Yes')\n",
        "    if data['Attrition_Binary'].dtype == 'object':\n",
        "        data['Attrition_Binary'] = (data['Attrition_Binary'] == 'Yes').astype(int)\n",
        "\n",
        "    # Compute correlations with Attrition_Binary\n",
        "    correlations = data.corr()['Attrition_Binary'].sort_values(key=abs, ascending=False)\n",
        "\n",
        "    # Filter correlations above the threshold (excluding Attrition_Binary itself)\n",
        "    high_correlations = correlations[(abs(correlations) > threshold) & (correlations.index != 'Attrition_Binary')]\n",
        "\n",
        "    return high_correlations\n",
        "\n",
        "attrition_correlations = get_correlations_with_attrition(data, threshold=0.1)\n",
        "\n",
        "# Print the results\n",
        "print(\"Features correlated with Attrition_Binary (|correlation| > 0.1):\")\n",
        "for feature, correlation in attrition_correlations.items():\n",
        "    print(f\"{feature}: {correlation:.2f}\")"
      ]
    },
    {
      "cell_type": "markdown",
      "metadata": {
        "id": "oEWfWPTIVdRo"
      },
      "source": [
        "check for multicollinearity among highly correlated features"
      ]
    },
    {
      "cell_type": "code",
      "source": [
        "# Subset the data to include only highly correlated features\n",
        "correlated_features = attrition_correlations.index.tolist()  # Features from your correlation analysis\n",
        "data_correlated = data[correlated_features]\n",
        "\n",
        "# Compute the correlation matrix for highly correlated features\n",
        "correlation_matrix = data_correlated.corr()\n",
        "\n",
        "# Plot the heatmap to visualize correlations\n",
        "plt.figure(figsize=(12, 10))\n",
        "sns.heatmap(correlation_matrix, annot=True, fmt=\".2f\", cmap=\"coolwarm\")\n",
        "plt.title(\"Correlation Heatmap for Highly Correlated Features\")\n",
        "plt.show()\n",
        "\n",
        "# Identify highly correlated pairs\n",
        "threshold = 0.8\n",
        "high_corr_pairs = [\n",
        "    (col1, col2) for col1 in correlation_matrix.columns for col2 in correlation_matrix.columns\n",
        "    if col1 != col2 and abs(correlation_matrix.loc[col1, col2]) > threshold\n",
        "]\n",
        "\n",
        "# Print highly correlated pairs\n",
        "print(\"Highly correlated pairs (|correlation| > 0.8):\")\n",
        "for pair in high_corr_pairs:\n",
        "    print(pair[0], \"<->\", pair[1], f\"Correlation: {correlation_matrix.loc[pair[0], pair[1]]:.2f}\")\n"
      ],
      "metadata": {
        "colab": {
          "base_uri": "https://localhost:8080/",
          "height": 1000
        },
        "id": "ciTu29_EvnWT",
        "outputId": "7737f20d-3056-4017-f9bb-64883a45a08d"
      },
      "execution_count": null,
      "outputs": [
        {
          "output_type": "display_data",
          "data": {
            "text/plain": [
              "<Figure size 1200x1000 with 2 Axes>"
            ],
            "image/png": "[encoded data removed]"
          },
          "metadata": {}
        },
        {
          "output_type": "stream",
          "name": "stdout",
          "text": [
            "Highly correlated pairs (|correlation| > 0.8):\n"
          ]
        }
      ]
    },
    {
      "cell_type": "markdown",
      "source": [
        "There are no highly correlated pairs (> 0.8) with a high correlation to target variable"
      ],
      "metadata": {
        "id": "XGaiqGA4v9Gx"
      }
    },
    {
      "cell_type": "markdown",
      "metadata": {
        "id": "UGyRZSo2Eezi"
      },
      "source": [
        "###Create Train/Test split"
      ]
    },
    {
      "cell_type": "code",
      "execution_count": null,
      "metadata": {
        "id": "Iy6YEkWdElHN"
      },
      "outputs": [],
      "source": [
        "# Split data\n",
        "X = data.drop(columns=['Attrition_Binary'])\n",
        "y = data['Attrition_Binary']\n",
        "X_train, X_test, y_train, y_test = train_test_split(X, y, test_size=0.2, random_state=42)"
      ]
    },
    {
      "cell_type": "markdown",
      "metadata": {
        "id": "Z-dabqL_DMT8"
      },
      "source": [
        "##3. Model Selection, Training and Evaluation"
      ]
    },
    {
      "cell_type": "markdown",
      "metadata": {
        "id": "hkke_qNuDYlt"
      },
      "source": [
        "### Random Forest model"
      ]
    },
    {
      "cell_type": "code",
      "execution_count": null,
      "metadata": {
        "colab": {
          "base_uri": "https://localhost:8080/"
        },
        "id": "VEyV5dK1AKUU",
        "outputId": "3c16286a-1fd7-4d79-b8ed-04f71f369ee2"
      },
      "outputs": [
        {
          "output_type": "stream",
          "name": "stdout",
          "text": [
            "              precision    recall  f1-score   support\n",
            "\n",
            "           0       0.88      0.98      0.93       255\n",
            "           1       0.50      0.10      0.17        39\n",
            "\n",
            "    accuracy                           0.87       294\n",
            "   macro avg       0.69      0.54      0.55       294\n",
            "weighted avg       0.83      0.87      0.83       294\n",
            "\n"
          ]
        }
      ],
      "source": [
        "# Train Random Forest\n",
        "rf_model = RandomForestClassifier(random_state=42)\n",
        "rf_model.fit(X_train, y_train)\n",
        "\n",
        "# Predict and evaluate\n",
        "y_pred = rf_model.predict(X_test)\n",
        "print(classification_report(y_test, y_pred))\n"
      ]
    },
    {
      "cell_type": "markdown",
      "metadata": {
        "id": "dIlI7DawTw_2"
      },
      "source": [
        "The accuracy is great, but the target is so unbalanced the results are very poor on attrition = YES.  Our main concern."
      ]
    },
    {
      "cell_type": "markdown",
      "source": [
        "####Hyper paramter tuning"
      ],
      "metadata": {
        "id": "s2fHvJcjwm1m"
      }
    },
    {
      "cell_type": "markdown",
      "source": [
        "Going to include pipeline and SMOTE as the target variable it extremely unbalanced.  Only ~13% of target has Attrition = 1 (Yes)"
      ],
      "metadata": {
        "id": "oDGps0wRwwEM"
      }
    },
    {
      "cell_type": "code",
      "source": [
        "from imblearn.pipeline import Pipeline\n",
        "from imblearn.over_sampling import SMOTE\n",
        "from sklearn.ensemble import RandomForestClassifier\n",
        "from sklearn.model_selection import GridSearchCV, StratifiedKFold\n",
        "\n",
        "# Define the pipeline with SMOTE and Random Forest\n",
        "pipeline = Pipeline([\n",
        "    ('smote', SMOTE(random_state=42)),  # Apply SMOTE\n",
        "    ('rf', RandomForestClassifier(random_state=42))  # Random Forest classifier\n",
        "])\n",
        "\n",
        "# Define the parameter grid for GridSearchCV\n",
        "param_grid = {\n",
        "    'rf__n_estimators': [100, 200, 300],         # Grid for number of trees\n",
        "    'rf__max_depth': [None, 10, 20, 30],        # Grid for maximum depth of trees\n",
        "    'rf__min_samples_split': [2, 5, 10],        # Grid for minimum samples required to split a node\n",
        "    'rf__min_samples_leaf': [1, 2, 4]           # Grid for minimum samples required at a leaf node\n",
        "}\n",
        "\n",
        "# Step 5: Perform GridSearchCV with Stratified K-Fold\n",
        "skf = StratifiedKFold(n_splits=5, shuffle=True, random_state=42)\n",
        "print(f\"SKF: {skf}\")\n",
        "# Set up GridSearchCV\n",
        "grid_search = GridSearchCV(estimator=pipeline, param_grid=param_grid, cv=skf, n_jobs=-1, verbose=2, scoring='recall')  # Focus on recall for minority class\n",
        "\n",
        "# Fit the model\n",
        "grid_search.fit(X_train, y_train)\n",
        "\n",
        "# Print the best parameters and score\n",
        "print(\"Best parameters: \", grid_search.best_params_)\n",
        "print(\"Best cross-validation score: \", grid_search.best_score_)\n",
        "\n",
        "# Get the best model\n",
        "best_rf = grid_search.best_estimator_\n"
      ],
      "metadata": {
        "colab": {
          "base_uri": "https://localhost:8080/"
        },
        "id": "LxEsKs5LwzPu",
        "outputId": "b2b46f5a-8679-4e73-a297-eb02e4264fdf"
      },
      "execution_count": null,
      "outputs": [
        {
          "output_type": "stream",
          "name": "stdout",
          "text": [
            "SKF: StratifiedKFold(n_splits=5, random_state=42, shuffle=True)\n",
            "Fitting 5 folds for each of 108 candidates, totalling 540 fits\n",
            "Best parameters:  {'rf__max_depth': 10, 'rf__min_samples_leaf': 4, 'rf__min_samples_split': 10, 'rf__n_estimators': 100}\n",
            "Best cross-validation score:  0.4244871794871795\n"
          ]
        }
      ]
    },
    {
      "cell_type": "markdown",
      "source": [
        "Best tuned model metrics"
      ],
      "metadata": {
        "id": "m0-RgEj-zFDY"
      }
    },
    {
      "cell_type": "code",
      "source": [
        "# Predict on the test set\n",
        "y_pred = best_rf.predict(X_test)\n",
        "y_pred_proba = best_rf.predict_proba(X_test)[:, 1]  # Predicted probabilities for Class 1\n",
        "\n",
        "# Evaluate the model\n",
        "print(\"Confusion Matrix (Best Random Forest):\")\n",
        "print(confusion_matrix(y_test, y_pred))\n",
        "\n",
        "print(\"\\nClassification Report (Best Random Forest):\")\n",
        "print(classification_report(y_test, y_pred))\n",
        "\n",
        "print(\"\\nAUC-ROC (Best Random Forest):\", roc_auc_score(y_test, y_pred_proba))"
      ],
      "metadata": {
        "colab": {
          "base_uri": "https://localhost:8080/"
        },
        "id": "Lz3VnJVHzH3d",
        "outputId": "eac4a23c-f7a2-4b06-ba92-05b702d5a623"
      },
      "execution_count": null,
      "outputs": [
        {
          "output_type": "stream",
          "name": "stdout",
          "text": [
            "Confusion Matrix (Best Random Forest):\n",
            "[[243  12]\n",
            " [ 25  14]]\n",
            "\n",
            "Classification Report (Best Random Forest):\n",
            "              precision    recall  f1-score   support\n",
            "\n",
            "           0       0.91      0.95      0.93       255\n",
            "           1       0.54      0.36      0.43        39\n",
            "\n",
            "    accuracy                           0.87       294\n",
            "   macro avg       0.72      0.66      0.68       294\n",
            "weighted avg       0.86      0.87      0.86       294\n",
            "\n",
            "\n",
            "AUC-ROC (Best Random Forest): 0.7402714932126697\n"
          ]
        }
      ]
    },
    {
      "cell_type": "markdown",
      "metadata": {
        "id": "agROL_hMFmU_"
      },
      "source": [
        "#### K-fold"
      ]
    },
    {
      "cell_type": "code",
      "execution_count": null,
      "metadata": {
        "colab": {
          "base_uri": "https://localhost:8080/"
        },
        "id": "d4S2aWHKFtpi",
        "outputId": "026c6463-11fc-4f39-ed04-7889b14e53a6"
      },
      "outputs": [
        {
          "output_type": "stream",
          "name": "stdout",
          "text": [
            "Cross-validation scores:  [0.8559322  0.85531915 0.85106383 0.8212766  0.85957447]\n",
            "Mean CV score:  0.8486332491886044\n"
          ]
        }
      ],
      "source": [
        "# Perform k-fold cross-validation on the best model\n",
        "cv_scores = cross_val_score(best_rf, X_train, y_train, cv=5)\n",
        "print(\"Cross-validation scores: \", cv_scores)\n",
        "print(\"Mean CV score: \", cv_scores.mean())"
      ]
    },
    {
      "cell_type": "markdown",
      "metadata": {
        "id": "oE_LAiFRWNCz"
      },
      "source": [
        "####Feature Importance"
      ]
    },
    {
      "cell_type": "code",
      "execution_count": null,
      "metadata": {
        "colab": {
          "base_uri": "https://localhost:8080/",
          "height": 929
        },
        "id": "DH0RLaoaWOrt",
        "outputId": "29545a82-ea0a-4c39-e8b0-7d766d8efd0a"
      },
      "outputs": [
        {
          "output_type": "stream",
          "name": "stdout",
          "text": [
            "                     Feature  Importance\n",
            "6              MonthlyIncome    0.106898\n",
            "15               IncomeRatio    0.076324\n",
            "17          OverTime_binnary    0.070497\n",
            "14                    Tenure    0.069986\n",
            "0                        Age    0.069346\n",
            "12            YearsAtCompany    0.062692\n",
            "1           DistanceFromHome    0.056035\n",
            "7         NumCompaniesWorked    0.045406\n",
            "5            JobSatisfaction    0.038801\n",
            "13   YearsSinceLastPromotion    0.036413\n",
            "9           StockOptionLevel    0.036146\n",
            "18           JobRole_Grouped    0.034176\n",
            "10     TrainingTimesLastYear    0.033727\n",
            "3    EnvironmentSatisfaction    0.033721\n",
            "8   RelationshipSatisfaction    0.029765\n",
            "4             JobInvolvement    0.028789\n",
            "11           WorkLifeBalance    0.027411\n",
            "2                  Education    0.026045\n",
            "22      MaritalStatus_Single    0.023971\n",
            "16  BusinessTravel_Intensity    0.018828\n"
          ]
        },
        {
          "output_type": "display_data",
          "data": {
            "text/plain": [
              "<Figure size 1000x600 with 1 Axes>"
            ],
            "image/png": "[encoded data removed]"
          },
          "metadata": {}
        }
      ],
      "source": [
        "# Extract feature importance from the RandomForestClassifier\n",
        "importance = rf_model.feature_importances_\n",
        "features = X_train.columns\n",
        "\n",
        "# Create a DataFrame for better visualization\n",
        "feature_importance = pd.DataFrame({\n",
        "    'Feature': features,\n",
        "    'Importance': importance\n",
        "}).sort_values(by='Importance', ascending=False)\n",
        "\n",
        "# Display the top 20 features\n",
        "top_features = feature_importance.head(20)\n",
        "print(top_features)\n",
        "\n",
        "# Plot the top 20 features\n",
        "plt.figure(figsize=(10, 6))\n",
        "plt.barh(top_features['Feature'], top_features['Importance'], color='skyblue')\n",
        "plt.title('Top 20 Feature Importance (Random Forest)')\n",
        "plt.gca().invert_yaxis()\n",
        "plt.xlabel('Feature Importance')\n",
        "plt.ylabel('Feature')\n",
        "plt.show()\n"
      ]
    },
    {
      "cell_type": "markdown",
      "metadata": {
        "id": "4mo2yxlWWWtF"
      },
      "source": [
        "Re-Train on top 20 features"
      ]
    },
    {
      "cell_type": "code",
      "execution_count": null,
      "metadata": {
        "colab": {
          "base_uri": "https://localhost:8080/"
        },
        "id": "JKQmwqhZWV6z",
        "outputId": "ea3e7dc9-a7d4-41b1-8568-4b243451a8a3"
      },
      "outputs": [
        {
          "output_type": "stream",
          "name": "stdout",
          "text": [
            "Confusion Matrix (Top 20 Features):\n",
            "[[254   1]\n",
            " [ 36   3]]\n",
            "\n",
            "Classification Report (Top 20 Features):\n",
            "              precision    recall  f1-score   support\n",
            "\n",
            "           0       0.88      1.00      0.93       255\n",
            "           1       0.75      0.08      0.14        39\n",
            "\n",
            "    accuracy                           0.87       294\n",
            "   macro avg       0.81      0.54      0.54       294\n",
            "weighted avg       0.86      0.87      0.83       294\n",
            "\n",
            "\n",
            "AUC-ROC (Top 20 Features): 0.7521367521367521\n"
          ]
        }
      ],
      "source": [
        "from sklearn.ensemble import RandomForestClassifier\n",
        "from sklearn.metrics import classification_report, confusion_matrix, roc_auc_score\n",
        "\n",
        "# Extract the top 20 feature names\n",
        "top_20_features = top_features['Feature'].tolist()\n",
        "\n",
        "# Subset the training and test data to include only the top 20 features\n",
        "X_train_top20 = X_train[top_20_features]\n",
        "X_test_top20 = X_test[top_20_features]\n",
        "\n",
        "# Use the best parameters directly from GridSearchCV\n",
        "rf_model_top20 = RandomForestClassifier(\n",
        "    n_estimators=grid_search.best_params_['rf__n_estimators'],\n",
        "    max_depth=grid_search.best_params_['rf__max_depth'],\n",
        "    min_samples_split=grid_search.best_params_['rf__min_samples_split'],\n",
        "    min_samples_leaf=grid_search.best_params_['rf__min_samples_leaf'],\n",
        "    random_state=42\n",
        ")\n",
        "\n",
        "# Fit the model on the top 20 features\n",
        "rf_model_top20.fit(X_train_top20, y_train)\n",
        "\n",
        "# Predict on the test set\n",
        "y_pred_top20 = rf_model_top20.predict(X_test_top20)\n",
        "y_pred_proba_top20 = rf_model_top20.predict_proba(X_test_top20)[:, 1]\n",
        "\n",
        "# Evaluate the model\n",
        "print(\"Confusion Matrix (Top 20 Features):\")\n",
        "print(confusion_matrix(y_test, y_pred_top20))\n",
        "\n",
        "print(\"\\nClassification Report (Top 20 Features):\")\n",
        "print(classification_report(y_test, y_pred_top20))\n",
        "\n",
        "print(\"\\nAUC-ROC (Top 20 Features):\", roc_auc_score(y_test, y_pred_proba_top20))\n",
        "\n",
        "\n"
      ]
    },
    {
      "cell_type": "markdown",
      "source": [
        "limiting feature set significantly lowered performance on recall.</br>\n",
        "We will use all features."
      ],
      "metadata": {
        "id": "HovqtcGf1FZh"
      }
    },
    {
      "cell_type": "markdown",
      "source": [
        "####Threashold tuning"
      ],
      "metadata": {
        "id": "VAM3HC7U1Rci"
      }
    },
    {
      "cell_type": "code",
      "source": [
        "# Predicted probabilities for Class 1\n",
        "y_pred_proba_tuned = best_rf.predict_proba(X_test)[:, 1]\n",
        "\n",
        "# Loop through thresholds from 0.3 to 0.6 (step size 0.05)\n",
        "thresholds = np.arange(0.3, 0.65, 0.05)\n",
        "\n",
        "# Iterate through thresholds\n",
        "for threshold in thresholds:\n",
        "    print(f\"\\nThreshold: {threshold:.2f}\")\n",
        "\n",
        "    # Apply the threshold\n",
        "    y_pred_adjusted = (y_pred_proba_tuned > threshold).astype(int)\n",
        "\n",
        "    # Evaluate performance\n",
        "    print(\"Confusion Matrix:\")\n",
        "    print(confusion_matrix(y_test, y_pred_adjusted))\n",
        "\n",
        "    print(\"\\nClassification Report:\")\n",
        "    print(classification_report(y_test, y_pred_adjusted))\n",
        "\n",
        "    # AUC-ROC remains the same across thresholds\n",
        "    print(\"\\nAUC-ROC:\", roc_auc_score(y_test, y_pred_proba_tuned))\n",
        "    print(\"-\" * 50)"
      ],
      "metadata": {
        "colab": {
          "base_uri": "https://localhost:8080/"
        },
        "id": "Berge2nX1VIj",
        "outputId": "dbb91674-a359-458e-af23-b3b8a7ae64de"
      },
      "execution_count": null,
      "outputs": [
        {
          "output_type": "stream",
          "name": "stdout",
          "text": [
            "\n",
            "Threshold: 0.30\n",
            "Confusion Matrix:\n",
            "[[191  64]\n",
            " [ 14  25]]\n",
            "\n",
            "Classification Report:\n",
            "              precision    recall  f1-score   support\n",
            "\n",
            "           0       0.93      0.75      0.83       255\n",
            "           1       0.28      0.64      0.39        39\n",
            "\n",
            "    accuracy                           0.73       294\n",
            "   macro avg       0.61      0.70      0.61       294\n",
            "weighted avg       0.85      0.73      0.77       294\n",
            "\n",
            "\n",
            "AUC-ROC: 0.7402714932126697\n",
            "--------------------------------------------------\n",
            "\n",
            "Threshold: 0.35\n",
            "Confusion Matrix:\n",
            "[[206  49]\n",
            " [ 18  21]]\n",
            "\n",
            "Classification Report:\n",
            "              precision    recall  f1-score   support\n",
            "\n",
            "           0       0.92      0.81      0.86       255\n",
            "           1       0.30      0.54      0.39        39\n",
            "\n",
            "    accuracy                           0.77       294\n",
            "   macro avg       0.61      0.67      0.62       294\n",
            "weighted avg       0.84      0.77      0.80       294\n",
            "\n",
            "\n",
            "AUC-ROC: 0.7402714932126697\n",
            "--------------------------------------------------\n",
            "\n",
            "Threshold: 0.40\n",
            "Confusion Matrix:\n",
            "[[221  34]\n",
            " [ 21  18]]\n",
            "\n",
            "Classification Report:\n",
            "              precision    recall  f1-score   support\n",
            "\n",
            "           0       0.91      0.87      0.89       255\n",
            "           1       0.35      0.46      0.40        39\n",
            "\n",
            "    accuracy                           0.81       294\n",
            "   macro avg       0.63      0.66      0.64       294\n",
            "weighted avg       0.84      0.81      0.82       294\n",
            "\n",
            "\n",
            "AUC-ROC: 0.7402714932126697\n",
            "--------------------------------------------------\n",
            "\n",
            "Threshold: 0.45\n",
            "Confusion Matrix:\n",
            "[[238  17]\n",
            " [ 24  15]]\n",
            "\n",
            "Classification Report:\n",
            "              precision    recall  f1-score   support\n",
            "\n",
            "           0       0.91      0.93      0.92       255\n",
            "           1       0.47      0.38      0.42        39\n",
            "\n",
            "    accuracy                           0.86       294\n",
            "   macro avg       0.69      0.66      0.67       294\n",
            "weighted avg       0.85      0.86      0.85       294\n",
            "\n",
            "\n",
            "AUC-ROC: 0.7402714932126697\n",
            "--------------------------------------------------\n",
            "\n",
            "Threshold: 0.50\n",
            "Confusion Matrix:\n",
            "[[243  12]\n",
            " [ 25  14]]\n",
            "\n",
            "Classification Report:\n",
            "              precision    recall  f1-score   support\n",
            "\n",
            "           0       0.91      0.95      0.93       255\n",
            "           1       0.54      0.36      0.43        39\n",
            "\n",
            "    accuracy                           0.87       294\n",
            "   macro avg       0.72      0.66      0.68       294\n",
            "weighted avg       0.86      0.87      0.86       294\n",
            "\n",
            "\n",
            "AUC-ROC: 0.7402714932126697\n",
            "--------------------------------------------------\n",
            "\n",
            "Threshold: 0.55\n",
            "Confusion Matrix:\n",
            "[[249   6]\n",
            " [ 28  11]]\n",
            "\n",
            "Classification Report:\n",
            "              precision    recall  f1-score   support\n",
            "\n",
            "           0       0.90      0.98      0.94       255\n",
            "           1       0.65      0.28      0.39        39\n",
            "\n",
            "    accuracy                           0.88       294\n",
            "   macro avg       0.77      0.63      0.66       294\n",
            "weighted avg       0.87      0.88      0.86       294\n",
            "\n",
            "\n",
            "AUC-ROC: 0.7402714932126697\n",
            "--------------------------------------------------\n",
            "\n",
            "Threshold: 0.60\n",
            "Confusion Matrix:\n",
            "[[252   3]\n",
            " [ 32   7]]\n",
            "\n",
            "Classification Report:\n",
            "              precision    recall  f1-score   support\n",
            "\n",
            "           0       0.89      0.99      0.94       255\n",
            "           1       0.70      0.18      0.29        39\n",
            "\n",
            "    accuracy                           0.88       294\n",
            "   macro avg       0.79      0.58      0.61       294\n",
            "weighted avg       0.86      0.88      0.85       294\n",
            "\n",
            "\n",
            "AUC-ROC: 0.7402714932126697\n",
            "--------------------------------------------------\n"
          ]
        }
      ]
    },
    {
      "cell_type": "markdown",
      "metadata": {
        "id": "dhcN_XaqFy8p"
      },
      "source": [
        "####Best model results"
      ]
    },
    {
      "cell_type": "code",
      "execution_count": null,
      "metadata": {
        "colab": {
          "base_uri": "https://localhost:8080/"
        },
        "id": "m0PI0PRbF7PP",
        "outputId": "876aa2b8-aeb5-4c8d-953e-b7d3c7b94e72"
      },
      "outputs": [
        {
          "output_type": "stream",
          "name": "stdout",
          "text": [
            "Confusion Matrix (Best Model at Threshold 0.35):\n",
            "[[206  49]\n",
            " [ 18  21]]\n",
            "\n",
            "Classification Report (Best Model at Threshold 0.35):\n",
            "              precision    recall  f1-score   support\n",
            "\n",
            "           0       0.92      0.81      0.86       255\n",
            "           1       0.30      0.54      0.39        39\n",
            "\n",
            "    accuracy                           0.77       294\n",
            "   macro avg       0.61      0.67      0.62       294\n",
            "weighted avg       0.84      0.77      0.80       294\n",
            "\n",
            "\n",
            "AUC-ROC (Best Model): 0.7402714932126697\n"
          ]
        }
      ],
      "source": [
        "from sklearn.metrics import classification_report, confusion_matrix, roc_auc_score\n",
        "\n",
        "# Predicted probabilities for Class 1\n",
        "y_pred_proba = best_rf.predict_proba(X_test)[:, 1]  # Probabilities for Class 1\n",
        "\n",
        "# Apply the chosen threshold\n",
        "threshold = 0.35\n",
        "y_pred_best = (y_pred_proba > threshold).astype(int)\n",
        "\n",
        "# Evaluate performance\n",
        "print(\"Confusion Matrix (Best Model at Threshold 0.35):\")\n",
        "print(confusion_matrix(y_test, y_pred_best))\n",
        "\n",
        "print(\"\\nClassification Report (Best Model at Threshold 0.35):\")\n",
        "print(classification_report(y_test, y_pred_best))\n",
        "\n",
        "print(\"\\nAUC-ROC (Best Model):\", roc_auc_score(y_test, y_pred_proba))\n",
        "\n"
      ]
    },
    {
      "cell_type": "markdown",
      "metadata": {
        "id": "SW3ZQO1bUiJL"
      },
      "source": [
        "###XGBoost"
      ]
    },
    {
      "cell_type": "markdown",
      "metadata": {
        "id": "b5vMywMRUHJL"
      },
      "source": [
        "Run baseline model.\n",
        "We will use SMOTEENN to include synthetic data and undersampling to create most robust data set possible."
      ]
    },
    {
      "cell_type": "code",
      "execution_count": null,
      "metadata": {
        "id": "UTXeDuYLUJKt"
      },
      "outputs": [],
      "source": [
        "# Step 1: Data Preparation\n",
        "X_train, X_test, y_train, y_test = train_test_split(\n",
        "    X, y, test_size=0.2, stratify=y, random_state=42\n",
        ")\n",
        "\n",
        "# step 2: use SMOTEENN to produce most robust data for trianing\n",
        "from imblearn.combine import SMOTEENN\n",
        "\n",
        "smote_enn = SMOTEENN(random_state=42)\n",
        "X_train_resampled, y_train_resampled = smote_enn.fit_resample(X_train, y_train)"
      ]
    },
    {
      "cell_type": "markdown",
      "metadata": {
        "id": "ADWbn-pAVZou"
      },
      "source": [
        "####Baseline Model and metrics"
      ]
    },
    {
      "cell_type": "code",
      "execution_count": null,
      "metadata": {
        "colab": {
          "base_uri": "https://localhost:8080/"
        },
        "id": "Vclja_UGVQ8Z",
        "outputId": "8a87da98-8cb5-4a24-f66a-8b83f3b733bb"
      },
      "outputs": [
        {
          "output_type": "stream",
          "name": "stdout",
          "text": [
            "Confusion Matrix (Baseline):\n",
            "[[208  39]\n",
            " [ 17  30]]\n",
            "\n",
            "Classification Report (Baseline):\n",
            "              precision    recall  f1-score   support\n",
            "\n",
            "           0       0.92      0.84      0.88       247\n",
            "           1       0.43      0.64      0.52        47\n",
            "\n",
            "    accuracy                           0.81       294\n",
            "   macro avg       0.68      0.74      0.70       294\n",
            "weighted avg       0.85      0.81      0.82       294\n",
            "\n",
            "\n",
            "AUC-ROC (Baseline): 0.795675768800069\n"
          ]
        }
      ],
      "source": [
        "# Initialize XGBoost with default parameters\n",
        "baseline_xgb = XGBClassifier(random_state=42)\n",
        "\n",
        "# Train on the training set\n",
        "baseline_xgb.fit(X_train_resampled, y_train_resampled)\n",
        "\n",
        "# Predict on the test set\n",
        "y_pred_baseline = baseline_xgb.predict(X_test)\n",
        "y_pred_proba_baseline = baseline_xgb.predict_proba(X_test)[:, 1]\n",
        "\n",
        "# Evaluate performance\n",
        "print(\"Confusion Matrix (Baseline):\")\n",
        "print(confusion_matrix(y_test, y_pred_baseline))\n",
        "\n",
        "print(\"\\nClassification Report (Baseline):\")\n",
        "print(classification_report(y_test, y_pred_baseline))\n",
        "\n",
        "print(\"\\nAUC-ROC (Baseline):\", roc_auc_score(y_test, y_pred_proba_baseline))\n"
      ]
    },
    {
      "cell_type": "markdown",
      "metadata": {
        "id": "irA3AUZze671"
      },
      "source": [
        "####Hyperparamter tuning"
      ]
    },
    {
      "cell_type": "code",
      "execution_count": null,
      "metadata": {
        "colab": {
          "base_uri": "https://localhost:8080/"
        },
        "id": "bABTEE9MXB2u",
        "outputId": "23e7967e-6397-4a3a-ec23-e339d342e58e"
      },
      "outputs": [
        {
          "metadata": {
            "tags": null
          },
          "name": "stdout",
          "output_type": "stream",
          "text": [
            "Fitting 3 folds for each of 972 candidates, totalling 2916 fits\n"
          ]
        }
      ],
      "source": [
        "from sklearn.model_selection import GridSearchCV\n",
        "from xgboost import XGBClassifier\n",
        "\n",
        "param_grid = {\n",
        "    'max_depth': [3, 5, 7],\n",
        "    'learning_rate': [0.01, 0.05, 0.1],\n",
        "    'n_estimators': [100, 200, 300],\n",
        "    'subsample': [0.8, 1.0],\n",
        "    'colsample_bytree': [0.8, 1.0],\n",
        "    'scale_pos_weight': [1, 5, 10],\n",
        "    'gamma': [0, 0.1, 0.2]\n",
        "}\n",
        "\n",
        "grid_search = GridSearchCV(\n",
        "    estimator=XGBClassifier(random_state=42),\n",
        "    param_grid=param_grid,\n",
        "    scoring='roc_auc',\n",
        "    cv=3,\n",
        "    verbose=1,\n",
        "    n_jobs=-1\n",
        ")\n",
        "\n",
        "grid_search.fit(X_train_resampled, y_train_resampled)\n",
        "\n",
        "# Print best parameters and score\n",
        "print(\"Best Parameters:\", grid_search.best_params_)\n",
        "print(\"Best AUC-ROC Score:\", grid_search.best_score_)\n"
      ]
    },
    {
      "cell_type": "code",
      "execution_count": null,
      "metadata": {
        "id": "FTsb4NKabvk7"
      },
      "outputs": [],
      "source": [
        "# Use the best parameters from tuning\n",
        "tuned_xgb = XGBClassifier(**grid_search.best_params_, random_state=42)\n",
        "\n",
        "# Fit the model on the full resampled training data\n",
        "tuned_xgb.fit(X_train_resampled, y_train_resampled)\n",
        "\n",
        "# Predict on the test set\n",
        "y_pred_tuned = tuned_xgb.predict(X_test)\n",
        "y_pred_proba_tuned = tuned_xgb.predict_proba(X_test)[:, 1]\n",
        "\n",
        "# Evaluate performance\n",
        "print(\"Confusion Matrix:\")\n",
        "print(confusion_matrix(y_test, y_pred_tuned))\n",
        "print(\"\\nClassification Report:\")\n",
        "print(classification_report(y_test, y_pred_tuned))\n",
        "print(\"\\nAUC-ROC:\", roc_auc_score(y_test, y_pred_proba_tuned))\n"
      ]
    },
    {
      "cell_type": "markdown",
      "source": [
        "####K-fold"
      ],
      "metadata": {
        "id": "eORL2cqb7mDJ"
      }
    },
    {
      "cell_type": "code",
      "source": [
        "# Initialize the best XGBoost model with the best parameters\n",
        "best_xgb = XGBClassifier(**grid_search.best_params_, random_state=42)\n",
        "\n",
        "# Set up Stratified K-Fold for consistent class distribution\n",
        "skf = StratifiedKFold(n_splits=5, shuffle=True, random_state=42)\n",
        "\n",
        "# Perform k-fold cross-validation\n",
        "cv_scores = cross_val_score(best_xgb, X_train_resampled, y_train_resampled, cv=skf, scoring='roc_auc')\n",
        "\n",
        "# Print results\n",
        "print(\"Cross-Validation AUC Scores (XGBoost):\", cv_scores)\n",
        "print(\"Mean AUC-ROC:\", cv_scores.mean())\n",
        "print(\"Standard Deviation of AUC-ROC:\", cv_scores.std())"
      ],
      "metadata": {
        "id": "yV5MjUez7ptX"
      },
      "execution_count": null,
      "outputs": []
    },
    {
      "cell_type": "markdown",
      "source": [
        "####SHAP analysis"
      ],
      "metadata": {
        "id": "MPVNDPUKlMgT"
      }
    },
    {
      "cell_type": "code",
      "source": [
        "# Refit the best LightGBM model on the entire resampled training data\n",
        "#best_lgbm = LGBMClassifier(**grid_search.best_params_, random_state=38)\n",
        "best_xgb.fit(X_train_resampled, y_train_resampled)\n",
        "\n",
        "# Now use SHAP to analyze feature importance\n",
        "import shap\n",
        "\n",
        "# Initialize SHAP explainer for LightGBM\n",
        "explainer = shap.TreeExplainer(best_xgb)\n",
        "\n",
        "# Compute SHAP values for the training data\n",
        "shap_values = explainer.shap_values(X_train_resampled)\n",
        "\n",
        "# Summary plot to visualize feature importance\n",
        "shap.summary_plot(shap_values, X_train_resampled)"
      ],
      "metadata": {
        "id": "_c7eubbMlP0R"
      },
      "execution_count": null,
      "outputs": []
    },
    {
      "cell_type": "markdown",
      "source": [
        "####Test Feature Reduction"
      ],
      "metadata": {
        "id": "oklKlunQlnMH"
      }
    },
    {
      "cell_type": "code",
      "source": [
        "# Select high-impact features based on SHAP\n",
        "selected_features = [\n",
        "    'OverTime_binnary', 'EnvironmentSatisfaction', 'Age',\n",
        "    'NumCompaniesWorked', 'JobSatisfaction', 'Tenure',\n",
        "    'StockOptionLevel', 'WorkLifeBalance', 'JobRole_Grouped'\n",
        "]\n",
        "\n",
        "# Subset training and test datasets\n",
        "X_train_reduced = X_train_resampled[selected_features]\n",
        "X_test_reduced = X_test[selected_features]\n",
        "\n",
        "# Retrain the XGBoost model on the reduced feature set\n",
        "best_xgb.fit(X_train_reduced, y_train_resampled)\n",
        "\n",
        "# Predict on the test set\n",
        "y_pred_reduced = best_xgb.predict(X_test_reduced)\n",
        "y_pred_proba_reduced = best_xgb.predict_proba(X_test_reduced)[:, 1]\n",
        "\n",
        "# Evaluate the reduced model\n",
        "print(\"Confusion Matrix (Reduced Features):\")\n",
        "print(confusion_matrix(y_test, y_pred_reduced))\n",
        "\n",
        "print(\"\\nClassification Report (Reduced Features):\")\n",
        "print(classification_report(y_test, y_pred_reduced))\n",
        "\n",
        "print(\"\\nAUC-ROC (Reduced Features):\", roc_auc_score(y_test, y_pred_proba_reduced))"
      ],
      "metadata": {
        "id": "ZMKA434AlqJe"
      },
      "execution_count": null,
      "outputs": []
    },
    {
      "cell_type": "markdown",
      "source": [
        "####K-fold Retest"
      ],
      "metadata": {
        "id": "WVojzfHAnHXl"
      }
    },
    {
      "cell_type": "code",
      "source": [
        "from sklearn.model_selection import StratifiedKFold, cross_val_score\n",
        "from xgboost import XGBClassifier\n",
        "\n",
        "# Initialize the best XGBoost model with the best parameters\n",
        "best_xgb_reduced = XGBClassifier(**grid_search.best_params_, random_state=42)\n",
        "\n",
        "# Set up Stratified K-Fold for consistent class distribution\n",
        "skf = StratifiedKFold(n_splits=5, shuffle=True, random_state=42)\n",
        "\n",
        "# Perform k-fold cross-validation on the reduced feature set\n",
        "cv_scores_reduced = cross_val_score(\n",
        "    best_xgb_reduced, X_train_reduced, y_train_resampled, cv=skf, scoring='roc_auc'\n",
        ")\n",
        "\n",
        "# Print results\n",
        "print(\"Cross-Validation AUC Scores (Reduced Features):\", cv_scores_reduced)\n",
        "print(\"Mean AUC-ROC (Reduced Features):\", cv_scores_reduced.mean())\n",
        "print(\"Standard Deviation of AUC-ROC (Reduced Features):\", cv_scores_reduced.std())\n"
      ],
      "metadata": {
        "id": "Oi6S9SkinMIm"
      },
      "execution_count": null,
      "outputs": []
    },
    {
      "cell_type": "markdown",
      "source": [
        "There may be an increase in precision,</br>\n",
        "We will threshold test reduced feature set"
      ],
      "metadata": {
        "id": "XCjp9ggPnXM_"
      }
    },
    {
      "cell_type": "markdown",
      "source": [
        "####threshold tuning Reduced data"
      ],
      "metadata": {
        "id": "EmAAzEg6nuYt"
      }
    },
    {
      "cell_type": "code",
      "source": [
        "import numpy as np\n",
        "from sklearn.metrics import classification_report, confusion_matrix, roc_auc_score\n",
        "\n",
        "# Predicted probabilities for Class 1 using the reduced feature set\n",
        "y_pred_proba_reduced = best_xgb.predict_proba(X_test_reduced)[:, 1]\n",
        "\n",
        "# Loop through thresholds from 0.3 to 0.6 (step size 0.05)\n",
        "thresholds = np.arange(0.3, 0.65, 0.05)\n",
        "\n",
        "# Iterate through thresholds\n",
        "for threshold in thresholds:\n",
        "    print(f\"\\nThreshold: {threshold:.2f}\")\n",
        "\n",
        "    # Apply the threshold\n",
        "    y_pred_adjusted = (y_pred_proba_reduced > threshold).astype(int)\n",
        "\n",
        "    # Evaluate performance\n",
        "    print(\"Confusion Matrix (Reduced Features):\")\n",
        "    print(confusion_matrix(y_test, y_pred_adjusted))\n",
        "\n",
        "    print(\"\\nClassification Report (Reduced Features):\")\n",
        "    print(classification_report(y_test, y_pred_adjusted))\n",
        "\n",
        "    # AUC-ROC remains the same across thresholds\n",
        "    print(\"\\nAUC-ROC (Reduced Features):\", roc_auc_score(y_test, y_pred_proba_reduced))\n",
        "    print(\"-\" * 50)\n"
      ],
      "metadata": {
        "id": "jEO9gZ_KnyNw"
      },
      "execution_count": null,
      "outputs": []
    },
    {
      "cell_type": "markdown",
      "metadata": {
        "id": "484hgR9qcn7X"
      },
      "source": [
        "####Threshold tuning full data"
      ]
    },
    {
      "cell_type": "code",
      "execution_count": null,
      "metadata": {
        "id": "E0PaMgbhcsdn"
      },
      "outputs": [],
      "source": [
        "# Loop through thresholds from 0.3 to 0.6 (step size 0.05)\n",
        "thresholds = np.arange(0.3, 0.65, 0.05)\n",
        "\n",
        "# Predicted probabilities for Class 1\n",
        "y_pred_proba_tuned = tuned_xgb.predict_proba(X_test)[:, 1]\n",
        "\n",
        "# Iterate through thresholds\n",
        "for threshold in thresholds:\n",
        "    print(f\"\\nThreshold: {threshold:.2f}\")\n",
        "\n",
        "    # Apply the threshold\n",
        "    y_pred_adjusted = (y_pred_proba_tuned > threshold).astype(int)\n",
        "\n",
        "    # Evaluate performance\n",
        "    print(\"Confusion Matrix:\")\n",
        "    print(confusion_matrix(y_test, y_pred_adjusted))\n",
        "\n",
        "    print(\"\\nClassification Report:\")\n",
        "    print(classification_report(y_test, y_pred_adjusted))\n",
        "\n",
        "    # AUC-ROC remains the same across thresholds\n",
        "    print(\"\\nAUC-ROC:\", roc_auc_score(y_test, y_pred_proba_tuned))\n",
        "    print(\"-\" * 50)"
      ]
    },
    {
      "cell_type": "markdown",
      "metadata": {
        "id": "x-IXrBixu0jl"
      },
      "source": [
        "####PR visual (full data set)"
      ]
    },
    {
      "cell_type": "code",
      "execution_count": null,
      "metadata": {
        "id": "L-pclBQPu3qZ"
      },
      "outputs": [],
      "source": [
        "from sklearn.metrics import precision_recall_curve, auc\n",
        "import matplotlib.pyplot as plt\n",
        "\n",
        "# Refit the best XGBoost model\n",
        "best_xgb = XGBClassifier(**grid_search.best_params_, random_state=42)\n",
        "best_xgb.fit(X_train_resampled, y_train_resampled)\n",
        "\n",
        "\n",
        "# Predicted probabilities for Class 1\n",
        "y_pred_proba = best_xgb.predict_proba(X_test)[:, 1]\n",
        "\n",
        "# Calculate precision-recall curve\n",
        "precision, recall, thresholds = precision_recall_curve(y_test, y_pred_proba)\n",
        "\n",
        "# Calculate the area under the PR curve\n",
        "pr_auc = auc(recall, precision)\n",
        "\n",
        "# Plot the Precision-Recall curve\n",
        "plt.figure(figsize=(8, 6))\n",
        "plt.plot(recall, precision, label=f'PR Curve (AUC = {pr_auc:.2f})', color='blue')\n",
        "plt.xlabel('Recall')\n",
        "plt.ylabel('Precision')\n",
        "plt.title('Precision-Recall Curve (XGBoost)')\n",
        "plt.legend(loc='best')\n",
        "plt.grid()\n",
        "plt.show()\n"
      ]
    },
    {
      "cell_type": "markdown",
      "metadata": {
        "id": "eDVoNwiV5VNS"
      },
      "source": [
        "####Final XGBoost Model\n",
        "The best performing model keeps all features amd performs well given the problem and available data"
      ]
    },
    {
      "cell_type": "code",
      "execution_count": null,
      "metadata": {
        "id": "bB9053LF5nmM"
      },
      "outputs": [],
      "source": [
        "# Set the best threshold (e.g., 0.40)\n",
        "best_threshold = 0.55\n",
        "y_pred_best = (y_pred_proba_tuned > best_threshold).astype(int)\n",
        "\n",
        "# Evaluate with the best threshold\n",
        "print(\"Confusion Matrix (Best Threshold):\")\n",
        "print(confusion_matrix(y_test, y_pred_best))\n",
        "\n",
        "print(\"\\nClassification Report (Best Threshold):\")\n",
        "print(classification_report(y_test, y_pred_best))\n",
        "\n",
        "print(\"\\nAUC-ROC:\", roc_auc_score(y_test, y_pred_proba_tuned))"
      ]
    },
    {
      "cell_type": "markdown",
      "metadata": {
        "id": "qNXtzWZ2rYnN"
      },
      "source": [
        "###LightGBM Model"
      ]
    },
    {
      "cell_type": "markdown",
      "metadata": {
        "id": "3bj6j2O07ycK"
      },
      "source": [
        "####Baseline model and metrics"
      ]
    },
    {
      "cell_type": "code",
      "execution_count": null,
      "metadata": {
        "id": "gUo4pCkm70C2"
      },
      "outputs": [],
      "source": [
        "from lightgbm import LGBMClassifier\n",
        "from sklearn.metrics import classification_report, confusion_matrix, roc_auc_score\n",
        "\n",
        "# Initialize LightGBM\n",
        "lgbm = LGBMClassifier(random_state=42)\n",
        "\n",
        "# Fit the model\n",
        "lgbm.fit(X_train_resampled, y_train_resampled)\n",
        "\n",
        "# Predict on the test set\n",
        "y_pred = lgbm.predict(X_test)\n",
        "y_pred_proba = lgbm.predict_proba(X_test)[:, 1]\n",
        "\n",
        "# Evaluate performance\n",
        "print(\"Confusion Matrix:\")\n",
        "print(confusion_matrix(y_test, y_pred))\n",
        "\n",
        "print(\"\\nClassification Report:\")\n",
        "print(classification_report(y_test, y_pred))\n",
        "\n",
        "print(\"\\nAUC-ROC:\", roc_auc_score(y_test, y_pred_proba))\n"
      ]
    },
    {
      "cell_type": "markdown",
      "metadata": {
        "id": "ubxQLPeijd1u"
      },
      "source": [
        "####Hyperparameter tuning"
      ]
    },
    {
      "cell_type": "code",
      "execution_count": null,
      "metadata": {
        "id": "ZnATChiWjhBG"
      },
      "outputs": [],
      "source": [
        "from sklearn.model_selection import GridSearchCV\n",
        "from lightgbm import LGBMClassifier\n",
        "from sklearn.metrics import classification_report, confusion_matrix, roc_auc_score\n",
        "\n",
        "# Dynamically calculate scale_pos_weight\n",
        "#scale_pos_weight = len(y_train_resampled[y_train_resampled == 0]) / len(y_train_resampled[y_train_resampled == 1])\n",
        "\n",
        "# Define parameter grid\n",
        "param_grid = {\n",
        "    'num_leaves': [15, 31],\n",
        "    'max_depth': [3, 5],\n",
        "    'min_child_samples': [20, 30],\n",
        "    'learning_rate': [0.05, 0.1],\n",
        "    'n_estimators': [100, 300],\n",
        "    'scale_pos_weight': [1, 5],\n",
        "    'subsample': [0.8, 1.0],\n",
        "    'colsample_bytree': [0.8, 1.0]\n",
        "}\n",
        "\n",
        "# Set up GridSearchCV\n",
        "grid_search = GridSearchCV(\n",
        "    estimator=LGBMClassifier(random_state=38),\n",
        "    param_grid=param_grid,\n",
        "    scoring='roc_auc',\n",
        "    cv=3,\n",
        "    verbose=2,\n",
        "    n_jobs=-1\n",
        ")\n",
        "\n",
        "# Fit GridSearchCV\n",
        "grid_search.fit(X_train_resampled, y_train_resampled)\n",
        "\n",
        "# Best parameters and score\n",
        "print(\"Best Parameters:\", grid_search.best_params_)\n",
        "print(\"Best ROC-AUC Score from Grid Search:\", grid_search.best_score_)"
      ]
    },
    {
      "cell_type": "markdown",
      "metadata": {
        "id": "57xNnUe28reo"
      },
      "source": [
        "Best hyperparamter tuned model"
      ]
    },
    {
      "cell_type": "code",
      "execution_count": null,
      "metadata": {
        "id": "BkCnGrJY8yKf"
      },
      "outputs": [],
      "source": [
        "# Use the best model\n",
        "best_lgbm = grid_search.best_estimator_\n",
        "\n",
        "# Predict and evaluate\n",
        "y_pred = best_lgbm.predict(X_test)\n",
        "y_pred_proba = best_lgbm.predict_proba(X_test)[:, 1]\n",
        "\n",
        "print(\"Confusion Matrix:\", confusion_matrix(y_test, y_pred))\n",
        "print(classification_report(y_test, y_pred))\n",
        "print(\"AUC-ROC:\", roc_auc_score(y_test, y_pred_proba))"
      ]
    },
    {
      "cell_type": "markdown",
      "source": [
        "####K-fold"
      ],
      "metadata": {
        "id": "N_CCjdxvAZbc"
      }
    },
    {
      "cell_type": "code",
      "source": [
        "from sklearn.model_selection import StratifiedKFold, cross_val_score\n",
        "from lightgbm import LGBMClassifier\n",
        "\n",
        "# Initialize the best LightGBM model with the best parameters\n",
        "best_lgbm = LGBMClassifier(**grid_search.best_params_, random_state=38)\n",
        "\n",
        "# Set up Stratified K-Fold for consistent class distribution\n",
        "skf = StratifiedKFold(n_splits=5, shuffle=True, random_state=42)\n",
        "\n",
        "# Perform k-fold cross-validation\n",
        "cv_scores = cross_val_score(best_lgbm, X_train_resampled, y_train_resampled, cv=skf, scoring='roc_auc')\n",
        "\n",
        "# Print results\n",
        "print(\"Cross-Validation AUC Scores (LightGBM):\", cv_scores)\n",
        "print(\"Mean AUC-ROC:\", cv_scores.mean())\n",
        "print(\"Standard Deviation of AUC-ROC:\", cv_scores.std())\n"
      ],
      "metadata": {
        "id": "d8D4f0YtAbdc"
      },
      "execution_count": null,
      "outputs": []
    },
    {
      "cell_type": "markdown",
      "source": [
        "These results point to possible overfitting.</br>\n",
        "We will explore SHAP and possible feature reduction"
      ],
      "metadata": {
        "id": "xCh4fcvOBqMP"
      }
    },
    {
      "cell_type": "markdown",
      "source": [
        "####SHAP analysis"
      ],
      "metadata": {
        "id": "TpQS023fB_9M"
      }
    },
    {
      "cell_type": "code",
      "source": [
        "# Refit the best LightGBM model on the entire resampled training data\n",
        "best_lgbm = LGBMClassifier(**grid_search.best_params_, random_state=38)\n",
        "best_lgbm.fit(X_train_resampled, y_train_resampled)\n",
        "\n",
        "# Now use SHAP to analyze feature importance\n",
        "import shap\n",
        "\n",
        "# Initialize SHAP explainer for LightGBM\n",
        "explainer = shap.TreeExplainer(best_lgbm)\n",
        "\n",
        "# Compute SHAP values for the training data\n",
        "shap_values = explainer.shap_values(X_train_resampled)\n",
        "\n",
        "# Summary plot to visualize feature importance\n",
        "shap.summary_plot(shap_values, X_train_resampled)\n"
      ],
      "metadata": {
        "id": "Jt0_deRtCCcc"
      },
      "execution_count": null,
      "outputs": []
    },
    {
      "cell_type": "markdown",
      "source": [
        "####Test Feature reduction"
      ],
      "metadata": {
        "id": "TG7XCOJWGW2v"
      }
    },
    {
      "cell_type": "code",
      "source": [
        "# Subset the data with high-impact features\n",
        "high_impact_features = [\n",
        "    'OverTime_binnary', 'EnvironmentSatisfaction', 'Age', 'NumCompaniesWorked',\n",
        "    'JobSatisfaction', 'Tenure', 'StockOptionLevel', 'BusinessTravel_Intensity',\n",
        "    'JobRole_Grouped', 'WorkLifeBalance'\n",
        "]  # Add more based on SHAP plot\n",
        "\n",
        "X_train_reduced = X_train_resampled[high_impact_features]\n",
        "X_test_reduced = X_test[high_impact_features]\n",
        "\n",
        "# Retrain the model with reduced features\n",
        "best_lgbm.fit(X_train_reduced, y_train_resampled)\n",
        "\n",
        "# Evaluate the model\n",
        "y_pred_reduced = best_lgbm.predict(X_test_reduced)\n",
        "y_pred_proba_reduced = best_lgbm.predict_proba(X_test_reduced)[:, 1]\n",
        "\n",
        "# Print evaluation metrics\n",
        "print(\"Confusion Matrix (Reduced Features):\")\n",
        "print(confusion_matrix(y_test, y_pred_reduced))\n",
        "print(\"\\nClassification Report (Reduced Features):\")\n",
        "print(classification_report(y_test, y_pred_reduced))\n",
        "print(\"\\nAUC-ROC (Reduced Features):\", roc_auc_score(y_test, y_pred_proba_reduced))\n"
      ],
      "metadata": {
        "id": "VGtVl6UyCzcz"
      },
      "execution_count": null,
      "outputs": []
    },
    {
      "cell_type": "markdown",
      "source": [
        "####K-fold Retest"
      ],
      "metadata": {
        "id": "HcYpF--ZDduW"
      }
    },
    {
      "cell_type": "code",
      "source": [
        "from sklearn.model_selection import StratifiedKFold, cross_val_score\n",
        "from lightgbm import LGBMClassifier\n",
        "\n",
        "# Initialize LightGBM model with the best parameters\n",
        "best_lgbm_reduced = LGBMClassifier(**grid_search.best_params_, random_state=38)\n",
        "\n",
        "# Set up Stratified K-Fold for consistent class distribution\n",
        "skf = StratifiedKFold(n_splits=5, shuffle=True, random_state=42)\n",
        "\n",
        "# Perform k-fold cross-validation\n",
        "cv_scores_reduced = cross_val_score(\n",
        "    best_lgbm_reduced, X_train_reduced, y_train_resampled, cv=skf, scoring='roc_auc'\n",
        ")\n",
        "\n",
        "# Print results\n",
        "print(\"Cross-Validation AUC Scores (Reduced Features):\", cv_scores_reduced)\n",
        "print(\"Mean AUC-ROC (Reduced Features):\", cv_scores_reduced.mean())\n",
        "print(\"Standard Deviation of AUC-ROC (Reduced Features):\", cv_scores_reduced.std())\n"
      ],
      "metadata": {
        "id": "d-Z0AxEvDgTZ"
      },
      "execution_count": null,
      "outputs": []
    },
    {
      "cell_type": "markdown",
      "source": [
        "There is little difference with feature reduction.</br>\n",
        "We will continue with full dat set."
      ],
      "metadata": {
        "id": "nFJ5ObH4GowS"
      }
    },
    {
      "cell_type": "markdown",
      "metadata": {
        "id": "4RBifQufD5dm"
      },
      "source": [
        "####Thershold testing"
      ]
    },
    {
      "cell_type": "code",
      "execution_count": null,
      "metadata": {
        "id": "GYuEVO7Ej1pA"
      },
      "outputs": [],
      "source": [
        "thresholds = [0.3, 0.35, 0.4, 0.45, 0.5, .55]\n",
        "for threshold in thresholds:\n",
        "    y_pred_adjusted = (y_pred_proba > threshold).astype(int)\n",
        "    print(f\"\\nThreshold: {threshold}\")\n",
        "    print(confusion_matrix(y_test, y_pred_adjusted))\n",
        "    print(classification_report(y_test, y_pred_adjusted))\n",
        "\n"
      ]
    },
    {
      "cell_type": "markdown",
      "metadata": {
        "id": "qlKEcYuZjnGQ"
      },
      "source": [
        "####Best tuned model"
      ]
    },
    {
      "cell_type": "code",
      "execution_count": null,
      "metadata": {
        "id": "VVNQAT7KonM_"
      },
      "outputs": [],
      "source": [
        "final_threshold = 0.55  # Replace with chosen threshold\n",
        "y_pred_final = (y_pred_proba > final_threshold).astype(int)\n",
        "\n",
        "print(\"\\nConfusion Matrix:\")\n",
        "print(confusion_matrix(y_test, y_pred_final))\n",
        "print(classification_report(y_test, y_pred_final))\n",
        "\n",
        "print(\"AUC-ROC:\", roc_auc_score(y_test, y_pred_final))"
      ]
    },
    {
      "cell_type": "markdown",
      "metadata": {
        "id": "5C6r_lCgDmV0"
      },
      "source": [
        "####Best LightGBM model"
      ]
    },
    {
      "cell_type": "code",
      "execution_count": null,
      "metadata": {
        "id": "fGywGNfPEJDX"
      },
      "outputs": [],
      "source": [
        "final_threshold = 0.55  # Replace with chosen threshold\n",
        "y_pred_final = (y_pred_proba > final_threshold).astype(int)\n",
        "\n",
        "print(\"\\nConfusion Matrix:\")\n",
        "print(confusion_matrix(y_test, y_pred_final))\n",
        "print(classification_report(y_test, y_pred_final))\n",
        "\n",
        "print(\"AUC-ROC:\", roc_auc_score(y_test, y_pred_final))"
      ]
    },
    {
      "cell_type": "markdown",
      "source": [
        "##Final Model"
      ],
      "metadata": {
        "id": "QtohjyNN3aAW"
      }
    },
    {
      "cell_type": "markdown",
      "source": [
        "### **Chosen Model: XGBoost**\n",
        "\n",
        "---\n",
        "\n",
        "### **Summary**\n",
        "The **XGBoost** model was chosen as the final model based on its balanced performance metrics, particularly for Class 1 (attrition), which is the primary focus of this analysis. Among the three models evaluated—**Random Forest**, **XGBoost**, and **LightGBM**—the XGBoost model consistently demonstrated the best trade-off between precision and recall while achieving the highest overall accuracy and AUC-ROC.\n",
        "\n",
        "---\n",
        "\n",
        "### **Model Comparison**\n",
        "\n",
        "| **Model**    | **Precision (Class 1)** | **Recall (Class 1)** | **F1-Score (Class 1)** | **Accuracy** | **AUC-ROC** |\n",
        "|--------------|--------------------------|----------------------|-------------------------|--------------|-------------|\n",
        "| Random Forest | 0.30                     | 0.54                 | 0.39                   | 0.77         | 0.740       |\n",
        "| **XGBoost**   | **0.41**                 | **0.66**             | **0.51**               | **0.80**     | **0.788**   |\n",
        "| LightGBM      | 0.41                     | 0.62                 | 0.49                   | 0.80         | 0.723       |\n",
        "\n",
        "---\n",
        "\n",
        "### **Rationale for Choosing XGBoost**\n",
        "1. **Balanced Precision and Recall**:\n",
        "   - **Precision (41%)**: Indicates that 41% of the employees flagged as at-risk for attrition were correctly identified.\n",
        "   - **Recall (66%)**: Captures a significant majority of actual attrition cases, which is critical for the business goal of identifying at-risk employees.\n",
        "\n",
        "2. **Highest AUC-ROC**:\n",
        "   - The XGBoost model achieved the best AUC-ROC score (**0.788**), reflecting its strong overall ability to separate attrition (Class 1) from non-attrition (Class 0).\n",
        "\n",
        "3. **Accuracy and Weighted Metrics**:\n",
        "   - The XGBoost model delivered high overall accuracy (**80%**) and competitive weighted averages for precision and recall.\n",
        "\n",
        "4. **Consistency Across K-Fold Testing**:\n",
        "   - K-fold cross-validation for the XGBoost model produced an **average AUC-ROC of 0.991** with a low standard deviation (**0.0038**), indicating strong generalization across training folds.\n",
        "\n",
        "5. **Comparison with LightGBM**:\n",
        "   - While LightGBM achieved similar recall (**62%**) and accuracy (**80%**) to XGBoost, it delivered a lower AUC-ROC (**0.723**) and slightly worse precision (**41%**). The lower AUC-ROC suggests that LightGBM is less effective at separating attrition from non-attrition cases overall.\n",
        "\n",
        "---\n",
        "\n",
        "### **Justification for Deployment**\n",
        "- While there is a gap between k-fold cross-validation AUC-ROC (**0.991**) and test set AUC-ROC (**0.788**) for XGBoost, this discrepancy reflects the model’s ability to fit well to the training data while still generalizing adequately to unseen data.\n",
        "- The test set metrics align with business priorities, particularly the **66% recall**, ensuring that the model captures the majority of at-risk employees.\n",
        "- Regularization and feature reduction steps have been incorporated to mitigate overfitting, and SHAP analysis confirms that the model relies on meaningful, interpretable features like `OverTime_binary`, `EnvironmentSatisfaction`, and `Age`.\n",
        "\n",
        "---\n",
        "\n",
        "### **Conclusion**\n",
        "The **XGBoost model** was selected as the final model due to its ability to balance recall and precision effectively, making it the most robust option for identifying employees at risk of attrition. Threshold tuning (threshold = 0.35) further optimized the model to align with business objectives, ensuring actionable results while minimizing false positives.\n"
      ],
      "metadata": {
        "id": "gWcvF7Je3cV8"
      }
    }
  ],
  "metadata": {
    "colab": {
      "provenance": []
    },
    "kernelspec": {
      "display_name": "Python 3",
      "name": "python3"
    },
    "language_info": {
      "name": "python"
    }
  },
  "nbformat": 4,
  "nbformat_minor": 0
}